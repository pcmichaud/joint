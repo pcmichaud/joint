{
 "cells": [
  {
   "cell_type": "markdown",
   "metadata": {},
   "source": [
    "# Obtaining Estimation and Simulation Results"
   ]
  },
  {
   "cell_type": "code",
   "execution_count": 1,
   "metadata": {
    "ExecuteTime": {
     "end_time": "2019-05-13T17:12:42.550613Z",
     "start_time": "2019-05-13T17:12:42.177476Z"
    }
   },
   "outputs": [],
   "source": [
    "import os\n",
    "from matplotlib import pyplot as plt\n",
    "from tools import models"
   ]
  },
  {
   "cell_type": "markdown",
   "metadata": {},
   "source": [
    "We now create a base instance of the model (constant discount rates). This is useful for starting other specifications. This is not our reference scenario in the paper. "
   ]
  },
  {
   "cell_type": "code",
   "execution_count": 2,
   "metadata": {
    "ExecuteTime": {
     "end_time": "2019-05-13T17:12:42.964877Z",
     "start_time": "2019-05-13T17:12:42.955262Z"
    }
   },
   "outputs": [
    {
     "name": "stdout",
     "output_type": "stream",
     "text": [
      "Default options: \n",
      "isurvival  =  T\n",
      "iload  =  F\n",
      "iestimate  =  T\n",
      "data  =  hrs_final_ref.csv\n",
      "info  =  info_ref.dat\n",
      "includeratings  =  F\n",
      "icomplement  =  T\n",
      "ihetero  =  T\n",
      "ijointhetero  =  T\n",
      "ibargaininghetero  =  F\n",
      "idischetero  =  F\n",
      "icorr  =  T\n",
      "iunitary  =  F\n",
      "idiscount  =  F\n",
      "ddiscount  =  0.95\n",
      "idirect  =  F\n",
      "arf  =  0.06\n",
      "drc  =  0.08\n",
      "reprate  =  0.6\n",
      "ishufheter  =  F\n",
      "ishufwages  =  F\n",
      "iblockcomp  =  F\n",
      "ifixcorr  =  F\n",
      "dfixrho  =  0.5\n",
      "ifixdisccorr  =  F\n",
      "dfixdiscrho  =  0.5\n",
      "inoestim  =  F\n",
      "changed item  iload  with value F  to  T  ...\n"
     ]
    }
   ],
   "source": [
    "sp = models.sp\n",
    "base = sp('ref')\n",
    "base.chgoption('iload','T')"
   ]
  },
  {
   "cell_type": "markdown",
   "metadata": {},
   "source": [
    "We estimate parameters and simulate data post estimation"
   ]
  },
  {
   "cell_type": "code",
   "execution_count": 3,
   "metadata": {
    "ExecuteTime": {
     "end_time": "2019-05-13T17:12:50.572997Z",
     "start_time": "2019-05-13T17:12:43.315215Z"
    }
   },
   "outputs": [
    {
     "name": "stderr",
     "output_type": "stream",
     "text": [
      "/Users/loulou/joint/runtime/tools/models.py:175: RuntimeWarning: invalid value encountered in double_scalars\n",
      "  cov[1,0] = cov[1,0]/np.sqrt(cov[0,0]*cov[1,1])\n"
     ]
    },
    {
     "data": {
      "text/plain": [
       "-2626.181672856694"
      ]
     },
     "execution_count": 3,
     "metadata": {},
     "output_type": "execute_result"
    }
   ],
   "source": [
    "base.estimate()\n",
    "base.loglike"
   ]
  },
  {
   "cell_type": "markdown",
   "metadata": {},
   "source": [
    "We will now create a model that estimates discount rates. This is the baseline specification for the revision. "
   ]
  },
  {
   "cell_type": "code",
   "execution_count": 4,
   "metadata": {
    "ExecuteTime": {
     "end_time": "2019-05-13T17:12:50.751575Z",
     "start_time": "2019-05-13T17:12:50.743584Z"
    }
   },
   "outputs": [
    {
     "name": "stdout",
     "output_type": "stream",
     "text": [
      "Default options: \n",
      "isurvival  =  T\n",
      "iload  =  F\n",
      "iestimate  =  T\n",
      "data  =  hrs_final_ref.csv\n",
      "info  =  info_ref.dat\n",
      "includeratings  =  F\n",
      "icomplement  =  T\n",
      "ihetero  =  T\n",
      "ijointhetero  =  T\n",
      "ibargaininghetero  =  F\n",
      "idischetero  =  F\n",
      "icorr  =  T\n",
      "iunitary  =  F\n",
      "idiscount  =  F\n",
      "ddiscount  =  0.95\n",
      "idirect  =  F\n",
      "arf  =  0.06\n",
      "drc  =  0.08\n",
      "reprate  =  0.6\n",
      "ishufheter  =  F\n",
      "ishufwages  =  F\n",
      "iblockcomp  =  F\n",
      "ifixcorr  =  F\n",
      "dfixrho  =  0.5\n",
      "ifixdisccorr  =  F\n",
      "dfixdiscrho  =  0.5\n",
      "inoestim  =  F\n",
      "changed item  idiscount  with value F  to  T  ...\n",
      "changed item  iload  with value F  to  T  ...\n"
     ]
    },
    {
     "name": "stderr",
     "output_type": "stream",
     "text": [
      "/Users/loulou/joint/runtime/tools/models.py:175: RuntimeWarning: invalid value encountered in double_scalars\n",
      "  cov[1,0] = cov[1,0]/np.sqrt(cov[0,0]*cov[1,1])\n"
     ]
    },
    {
     "data": {
      "text/plain": [
       "-2594.043118550905"
      ]
     },
     "execution_count": 4,
     "metadata": {},
     "output_type": "execute_result"
    }
   ],
   "source": [
    "disc = sp('discount')\n",
    "disc.chgoption('idiscount','T')\n",
    "disc.chgoption('iload','T')\n",
    "disc.estimate()\n",
    "disc.loglike"
   ]
  },
  {
   "cell_type": "markdown",
   "metadata": {},
   "source": [
    "Very important note: This allows for heterogeneity in the complementarity effect and correlation across spouses. "
   ]
  },
  {
   "cell_type": "markdown",
   "metadata": {},
   "source": [
    "## Robustness of Specification"
   ]
  },
  {
   "cell_type": "markdown",
   "metadata": {},
   "source": [
    "We will collect a few loglikelihoods to do LR tests (Table in main text). We will also present some results in the appendix for these alternative models.  "
   ]
  },
  {
   "cell_type": "markdown",
   "metadata": {},
   "source": [
    "### Model with uncorrelated types"
   ]
  },
  {
   "cell_type": "markdown",
   "metadata": {},
   "source": [
    "Very important: This specification kills the correlation in marginal utility of leisure BUT not in the complementarity effect. "
   ]
  },
  {
   "cell_type": "code",
   "execution_count": 5,
   "metadata": {
    "ExecuteTime": {
     "end_time": "2019-05-13T17:12:59.156737Z",
     "start_time": "2019-05-13T17:12:59.148760Z"
    }
   },
   "outputs": [
    {
     "name": "stdout",
     "output_type": "stream",
     "text": [
      "Default options: \n",
      "isurvival  =  T\n",
      "iload  =  F\n",
      "iestimate  =  T\n",
      "data  =  hrs_final_ref.csv\n",
      "info  =  info_ref.dat\n",
      "includeratings  =  F\n",
      "icomplement  =  T\n",
      "ihetero  =  T\n",
      "ijointhetero  =  T\n",
      "ibargaininghetero  =  F\n",
      "idischetero  =  F\n",
      "icorr  =  T\n",
      "iunitary  =  F\n",
      "idiscount  =  F\n",
      "ddiscount  =  0.95\n",
      "idirect  =  F\n",
      "arf  =  0.06\n",
      "drc  =  0.08\n",
      "reprate  =  0.6\n",
      "ishufheter  =  F\n",
      "ishufwages  =  F\n",
      "iblockcomp  =  F\n",
      "ifixcorr  =  F\n",
      "dfixrho  =  0.5\n",
      "ifixdisccorr  =  F\n",
      "dfixdiscrho  =  0.5\n",
      "inoestim  =  F\n",
      "changed item  icorr  with value T  to  F  ...\n",
      "changed item  idiscount  with value F  to  T  ...\n",
      "changed item  iload  with value F  to  T  ...\n"
     ]
    },
    {
     "name": "stderr",
     "output_type": "stream",
     "text": [
      "/Users/loulou/joint/runtime/tools/models.py:175: RuntimeWarning: invalid value encountered in double_scalars\n",
      "  cov[1,0] = cov[1,0]/np.sqrt(cov[0,0]*cov[1,1])\n"
     ]
    },
    {
     "data": {
      "text/plain": [
       "-2594.047247653388"
      ]
     },
     "execution_count": 5,
     "metadata": {},
     "output_type": "execute_result"
    }
   ],
   "source": [
    "uncor = sp('nocorr')\n",
    "uncor.chgoption('icorr','F')\n",
    "uncor.chgoption('idiscount','T')\n",
    "uncor.chgoption('iload','T')\n",
    "uncor.estimate()\n",
    "uncor.loglike"
   ]
  },
  {
   "cell_type": "markdown",
   "metadata": {},
   "source": [
    "### Model without Survival Risk"
   ]
  },
  {
   "cell_type": "markdown",
   "metadata": {},
   "source": [
    "We do not show this specification in the paper, but it is there...."
   ]
  },
  {
   "cell_type": "code",
   "execution_count": 6,
   "metadata": {
    "ExecuteTime": {
     "end_time": "2019-05-13T17:13:15.099419Z",
     "start_time": "2019-05-13T17:13:15.091173Z"
    }
   },
   "outputs": [
    {
     "name": "stdout",
     "output_type": "stream",
     "text": [
      "Default options: \n",
      "isurvival  =  T\n",
      "iload  =  F\n",
      "iestimate  =  T\n",
      "data  =  hrs_final_ref.csv\n",
      "info  =  info_ref.dat\n",
      "includeratings  =  F\n",
      "icomplement  =  T\n",
      "ihetero  =  T\n",
      "ijointhetero  =  T\n",
      "ibargaininghetero  =  F\n",
      "idischetero  =  F\n",
      "icorr  =  T\n",
      "iunitary  =  F\n",
      "idiscount  =  F\n",
      "ddiscount  =  0.95\n",
      "idirect  =  F\n",
      "arf  =  0.06\n",
      "drc  =  0.08\n",
      "reprate  =  0.6\n",
      "ishufheter  =  F\n",
      "ishufwages  =  F\n",
      "iblockcomp  =  F\n",
      "ifixcorr  =  F\n",
      "dfixrho  =  0.5\n",
      "ifixdisccorr  =  F\n",
      "dfixdiscrho  =  0.5\n",
      "inoestim  =  F\n",
      "changed item  isurvival  with value T  to  F  ...\n",
      "changed item  idiscount  with value F  to  T  ...\n",
      "changed item  iload  with value F  to  T  ...\n"
     ]
    },
    {
     "name": "stderr",
     "output_type": "stream",
     "text": [
      "/Users/loulou/joint/runtime/tools/models.py:175: RuntimeWarning: invalid value encountered in double_scalars\n",
      "  cov[1,0] = cov[1,0]/np.sqrt(cov[0,0]*cov[1,1])\n"
     ]
    },
    {
     "data": {
      "text/plain": [
       "-2587.713880681494"
      ]
     },
     "execution_count": 6,
     "metadata": {},
     "output_type": "execute_result"
    }
   ],
   "source": [
    "nosurv = sp('nosurv')\n",
    "nosurv.chgoption('isurvival','F')\n",
    "nosurv.chgoption('idiscount','T')\n",
    "nosurv.chgoption('iload','T')\n",
    "nosurv.estimate()\n",
    "nosurv.loglike"
   ]
  },
  {
   "cell_type": "markdown",
   "metadata": {},
   "source": [
    "### Model without Complementarity"
   ]
  },
  {
   "cell_type": "markdown",
   "metadata": {},
   "source": [
    "This is the specification without complementarity effect. Hence, it restricts both the mean effect to be zero but also the heterogeneity in the complementarity effect. "
   ]
  },
  {
   "cell_type": "code",
   "execution_count": 7,
   "metadata": {
    "ExecuteTime": {
     "end_time": "2019-05-13T17:13:22.710934Z",
     "start_time": "2019-05-13T17:13:22.702836Z"
    }
   },
   "outputs": [
    {
     "name": "stdout",
     "output_type": "stream",
     "text": [
      "Default options: \n",
      "isurvival  =  T\n",
      "iload  =  F\n",
      "iestimate  =  T\n",
      "data  =  hrs_final_ref.csv\n",
      "info  =  info_ref.dat\n",
      "includeratings  =  F\n",
      "icomplement  =  T\n",
      "ihetero  =  T\n",
      "ijointhetero  =  T\n",
      "ibargaininghetero  =  F\n",
      "idischetero  =  F\n",
      "icorr  =  T\n",
      "iunitary  =  F\n",
      "idiscount  =  F\n",
      "ddiscount  =  0.95\n",
      "idirect  =  F\n",
      "arf  =  0.06\n",
      "drc  =  0.08\n",
      "reprate  =  0.6\n",
      "ishufheter  =  F\n",
      "ishufwages  =  F\n",
      "iblockcomp  =  F\n",
      "ifixcorr  =  F\n",
      "dfixrho  =  0.5\n",
      "ifixdisccorr  =  F\n",
      "dfixdiscrho  =  0.5\n",
      "inoestim  =  F\n",
      "changed item  idiscount  with value F  to  T  ...\n",
      "changed item  icomplement  with value T  to  F  ...\n",
      "changed item  ijointhetero  with value T  to  F  ...\n",
      "value already set to  F\n"
     ]
    },
    {
     "name": "stderr",
     "output_type": "stream",
     "text": [
      "/Users/loulou/joint/runtime/tools/models.py:155: RuntimeWarning: invalid value encountered in double_scalars\n",
      "  cov[1,0] = cov[1,0]/np.sqrt(cov[0,0]*cov[1,1])\n",
      "/Users/loulou/joint/runtime/tools/models.py:175: RuntimeWarning: invalid value encountered in double_scalars\n",
      "  cov[1,0] = cov[1,0]/np.sqrt(cov[0,0]*cov[1,1])\n"
     ]
    },
    {
     "data": {
      "text/plain": [
       "-2849.321166900954"
      ]
     },
     "execution_count": 7,
     "metadata": {},
     "output_type": "execute_result"
    }
   ],
   "source": [
    "nocomp = sp('nocomp')\n",
    "nocomp.chgoption('idiscount','T')\n",
    "nocomp.chgoption('icomplement','F')\n",
    "nocomp.chgoption('ijointhetero','F')\n",
    "nocomp.chgoption('iload','F')\n",
    "nocomp.estimate()\n",
    "nocomp.loglike"
   ]
  },
  {
   "cell_type": "markdown",
   "metadata": {},
   "source": [
    "### Unitary Model"
   ]
  },
  {
   "cell_type": "code",
   "execution_count": 8,
   "metadata": {
    "ExecuteTime": {
     "end_time": "2019-05-13T17:16:11.006223Z",
     "start_time": "2019-05-13T17:16:10.995873Z"
    }
   },
   "outputs": [
    {
     "name": "stdout",
     "output_type": "stream",
     "text": [
      "Default options: \n",
      "isurvival  =  T\n",
      "iload  =  F\n",
      "iestimate  =  T\n",
      "data  =  hrs_final_ref.csv\n",
      "info  =  info_ref.dat\n",
      "includeratings  =  F\n",
      "icomplement  =  T\n",
      "ihetero  =  T\n",
      "ijointhetero  =  T\n",
      "ibargaininghetero  =  F\n",
      "idischetero  =  F\n",
      "icorr  =  T\n",
      "iunitary  =  F\n",
      "idiscount  =  F\n",
      "ddiscount  =  0.95\n",
      "idirect  =  F\n",
      "arf  =  0.06\n",
      "drc  =  0.08\n",
      "reprate  =  0.6\n",
      "ishufheter  =  F\n",
      "ishufwages  =  F\n",
      "iblockcomp  =  F\n",
      "ifixcorr  =  F\n",
      "dfixrho  =  0.5\n",
      "ifixdisccorr  =  F\n",
      "dfixdiscrho  =  0.5\n",
      "inoestim  =  F\n",
      "changed item  iunitary  with value F  to  T  ...\n",
      "changed item  idiscount  with value F  to  T  ...\n",
      "changed item  iload  with value F  to  T  ...\n"
     ]
    },
    {
     "name": "stderr",
     "output_type": "stream",
     "text": [
      "/Users/loulou/joint/runtime/tools/models.py:175: RuntimeWarning: invalid value encountered in double_scalars\n",
      "  cov[1,0] = cov[1,0]/np.sqrt(cov[0,0]*cov[1,1])\n"
     ]
    },
    {
     "data": {
      "text/plain": [
       "-2596.5757467725543"
      ]
     },
     "execution_count": 8,
     "metadata": {},
     "output_type": "execute_result"
    }
   ],
   "source": [
    "unitary = sp('unitary')\n",
    "unitary.chgoption('iunitary','T')\n",
    "unitary.chgoption('idiscount','T')\n",
    "unitary.chgoption('iload','T')\n",
    "unitary.estimate()\n",
    "unitary.loglike"
   ]
  },
  {
   "cell_type": "markdown",
   "metadata": {
    "ExecuteTime": {
     "end_time": "2019-05-13T17:16:22.648277Z",
     "start_time": "2019-05-13T17:16:22.502138Z"
    }
   },
   "source": [
    "This is the specification with heterogeneity in discount rates. We do not show it below. "
   ]
  },
  {
   "cell_type": "code",
   "execution_count": 9,
   "metadata": {},
   "outputs": [
    {
     "name": "stdout",
     "output_type": "stream",
     "text": [
      "Default options: \n",
      "isurvival  =  T\n",
      "iload  =  F\n",
      "iestimate  =  T\n",
      "data  =  hrs_final_ref.csv\n",
      "info  =  info_ref.dat\n",
      "includeratings  =  F\n",
      "icomplement  =  T\n",
      "ihetero  =  T\n",
      "ijointhetero  =  T\n",
      "ibargaininghetero  =  F\n",
      "idischetero  =  F\n",
      "icorr  =  T\n",
      "iunitary  =  F\n",
      "idiscount  =  F\n",
      "ddiscount  =  0.95\n",
      "idirect  =  F\n",
      "arf  =  0.06\n",
      "drc  =  0.08\n",
      "reprate  =  0.6\n",
      "ishufheter  =  F\n",
      "ishufwages  =  F\n",
      "iblockcomp  =  F\n",
      "ifixcorr  =  F\n",
      "dfixrho  =  0.5\n",
      "ifixdisccorr  =  F\n",
      "dfixdiscrho  =  0.5\n",
      "inoestim  =  F\n",
      "changed item  idiscount  with value F  to  T  ...\n",
      "changed item  idischetero  with value F  to  T  ...\n",
      "changed item  iload  with value F  to  T  ...\n",
      "-2482.025322323011\n"
     ]
    },
    {
     "data": {
      "text/html": [
       "<div>\n",
       "<style scoped>\n",
       "    .dataframe tbody tr th:only-of-type {\n",
       "        vertical-align: middle;\n",
       "    }\n",
       "\n",
       "    .dataframe tbody tr th {\n",
       "        vertical-align: top;\n",
       "    }\n",
       "\n",
       "    .dataframe thead th {\n",
       "        text-align: right;\n",
       "    }\n",
       "</style>\n",
       "<table border=\"1\" class=\"dataframe\">\n",
       "  <thead>\n",
       "    <tr style=\"text-align: right;\">\n",
       "      <th></th>\n",
       "      <th>par</th>\n",
       "      <th>se</th>\n",
       "    </tr>\n",
       "  </thead>\n",
       "  <tbody>\n",
       "    <tr>\n",
       "      <th>alpha_c</th>\n",
       "      <td>3.7033472024245194E-002</td>\n",
       "      <td>1.7546656331714212E-002</td>\n",
       "    </tr>\n",
       "    <tr>\n",
       "      <th>alpha_lm_cons</th>\n",
       "      <td>-2.2601473741661451</td>\n",
       "      <td>0.51547286728631581</td>\n",
       "    </tr>\n",
       "    <tr>\n",
       "      <th>alpha_lm_age</th>\n",
       "      <td>0.61759661930699639</td>\n",
       "      <td>0.10328785974972771</td>\n",
       "    </tr>\n",
       "    <tr>\n",
       "      <th>alpha_lm_hlim</th>\n",
       "      <td>1.7526107435631357</td>\n",
       "      <td>0.54499726261589565</td>\n",
       "    </tr>\n",
       "    <tr>\n",
       "      <th>alpha_lm_college</th>\n",
       "      <td>-6.0641315995189911E-002</td>\n",
       "      <td>0.23339240688929530</td>\n",
       "    </tr>\n",
       "    <tr>\n",
       "      <th>alpha_lm_male</th>\n",
       "      <td>0.15057566321894247</td>\n",
       "      <td>0.31157543646987290</td>\n",
       "    </tr>\n",
       "    <tr>\n",
       "      <th>alpha_lm_job</th>\n",
       "      <td>-0.37211513217848757</td>\n",
       "      <td>0.32051238896011691</td>\n",
       "    </tr>\n",
       "    <tr>\n",
       "      <th>alpha_lf</th>\n",
       "      <td>0.0000000000000000</td>\n",
       "      <td>0.0000000000000000</td>\n",
       "    </tr>\n",
       "    <tr>\n",
       "      <th>alpha_lm_lf</th>\n",
       "      <td>0.27013434128914710</td>\n",
       "      <td>5.3431470836475710E-002</td>\n",
       "    </tr>\n",
       "    <tr>\n",
       "      <th>beta_c</th>\n",
       "      <td>6.3355934821976809E-002</td>\n",
       "      <td>3.0866180583610691E-002</td>\n",
       "    </tr>\n",
       "    <tr>\n",
       "      <th>beta_lf_cons</th>\n",
       "      <td>-0.99051848442704660</td>\n",
       "      <td>0.47332442257309232</td>\n",
       "    </tr>\n",
       "    <tr>\n",
       "      <th>beta_lf_age</th>\n",
       "      <td>0.88245380570934639</td>\n",
       "      <td>0.16621366074608138</td>\n",
       "    </tr>\n",
       "    <tr>\n",
       "      <th>beta_lf_hlim</th>\n",
       "      <td>0.68278827478962134</td>\n",
       "      <td>0.58622782672182805</td>\n",
       "    </tr>\n",
       "    <tr>\n",
       "      <th>beta_lf_college</th>\n",
       "      <td>-8.6218314366451720E-002</td>\n",
       "      <td>0.28410434756623104</td>\n",
       "    </tr>\n",
       "    <tr>\n",
       "      <th>beta_lf_male</th>\n",
       "      <td>1.9448977479045464</td>\n",
       "      <td>0.60518016132712449</td>\n",
       "    </tr>\n",
       "    <tr>\n",
       "      <th>beta_lf_job</th>\n",
       "      <td>7.2351009223593638E-002</td>\n",
       "      <td>0.30536792492078130</td>\n",
       "    </tr>\n",
       "    <tr>\n",
       "      <th>beta_lm</th>\n",
       "      <td>0.0000000000000000</td>\n",
       "      <td>0.0000000000000000</td>\n",
       "    </tr>\n",
       "    <tr>\n",
       "      <th>beta_lm_lf</th>\n",
       "      <td>0.14015745894195492</td>\n",
       "      <td>3.9145086162025833E-002</td>\n",
       "    </tr>\n",
       "    <tr>\n",
       "      <th>mu</th>\n",
       "      <td>-3.0163967235429863E-002</td>\n",
       "      <td>0.46149301175228696</td>\n",
       "    </tr>\n",
       "    <tr>\n",
       "      <th>wageratio</th>\n",
       "      <td>0.93491051754057020</td>\n",
       "      <td>0.55951037132074433</td>\n",
       "    </tr>\n",
       "    <tr>\n",
       "      <th>log_rho_m</th>\n",
       "      <td>7.1020527986346366E-002</td>\n",
       "      <td>1.5733527543965335E-002</td>\n",
       "    </tr>\n",
       "    <tr>\n",
       "      <th>log_rho_f</th>\n",
       "      <td>1.4962558455084325E-002</td>\n",
       "      <td>1.6885608209621483E-002</td>\n",
       "    </tr>\n",
       "    <tr>\n",
       "      <th>tau_m_0</th>\n",
       "      <td>-3.0000000000000000</td>\n",
       "      <td>0.0000000000000000</td>\n",
       "    </tr>\n",
       "    <tr>\n",
       "      <th>log_tau_m</th>\n",
       "      <td>1.0000000000000000</td>\n",
       "      <td>0.0000000000000000</td>\n",
       "    </tr>\n",
       "    <tr>\n",
       "      <th>log_tau_m</th>\n",
       "      <td>1.0000000000000000</td>\n",
       "      <td>0.0000000000000000</td>\n",
       "    </tr>\n",
       "    <tr>\n",
       "      <th>log_tau_m</th>\n",
       "      <td>1.0000000000000000</td>\n",
       "      <td>0.0000000000000000</td>\n",
       "    </tr>\n",
       "    <tr>\n",
       "      <th>log_tau_m</th>\n",
       "      <td>1.0000000000000000</td>\n",
       "      <td>0.0000000000000000</td>\n",
       "    </tr>\n",
       "    <tr>\n",
       "      <th>log_tau_m</th>\n",
       "      <td>1.0000000000000000</td>\n",
       "      <td>0.0000000000000000</td>\n",
       "    </tr>\n",
       "    <tr>\n",
       "      <th>log_tau_m</th>\n",
       "      <td>1.0000000000000000</td>\n",
       "      <td>0.0000000000000000</td>\n",
       "    </tr>\n",
       "    <tr>\n",
       "      <th>log_tau_m</th>\n",
       "      <td>1.0000000000000000</td>\n",
       "      <td>0.0000000000000000</td>\n",
       "    </tr>\n",
       "    <tr>\n",
       "      <th>log_tau_m</th>\n",
       "      <td>1.0000000000000000</td>\n",
       "      <td>0.0000000000000000</td>\n",
       "    </tr>\n",
       "    <tr>\n",
       "      <th>tau_f_0</th>\n",
       "      <td>-3.0000000000000000</td>\n",
       "      <td>0.0000000000000000</td>\n",
       "    </tr>\n",
       "    <tr>\n",
       "      <th>log_tau_f</th>\n",
       "      <td>1.0000000000000000</td>\n",
       "      <td>0.0000000000000000</td>\n",
       "    </tr>\n",
       "    <tr>\n",
       "      <th>log_tau_f</th>\n",
       "      <td>1.0000000000000000</td>\n",
       "      <td>0.0000000000000000</td>\n",
       "    </tr>\n",
       "    <tr>\n",
       "      <th>log_tau_f</th>\n",
       "      <td>1.0000000000000000</td>\n",
       "      <td>0.0000000000000000</td>\n",
       "    </tr>\n",
       "    <tr>\n",
       "      <th>log_tau_f</th>\n",
       "      <td>1.0000000000000000</td>\n",
       "      <td>0.0000000000000000</td>\n",
       "    </tr>\n",
       "    <tr>\n",
       "      <th>log_tau_f</th>\n",
       "      <td>1.0000000000000000</td>\n",
       "      <td>0.0000000000000000</td>\n",
       "    </tr>\n",
       "    <tr>\n",
       "      <th>log_tau_f</th>\n",
       "      <td>1.0000000000000000</td>\n",
       "      <td>0.0000000000000000</td>\n",
       "    </tr>\n",
       "    <tr>\n",
       "      <th>log_tau_f</th>\n",
       "      <td>1.0000000000000000</td>\n",
       "      <td>0.0000000000000000</td>\n",
       "    </tr>\n",
       "    <tr>\n",
       "      <th>log_tau_f</th>\n",
       "      <td>1.0000000000000000</td>\n",
       "      <td>0.0000000000000000</td>\n",
       "    </tr>\n",
       "    <tr>\n",
       "      <th>log_sig_m</th>\n",
       "      <td>0.0000000000000000</td>\n",
       "      <td>0.0000000000000000</td>\n",
       "    </tr>\n",
       "    <tr>\n",
       "      <th>log_sig_f</th>\n",
       "      <td>0.0000000000000000</td>\n",
       "      <td>0.0000000000000000</td>\n",
       "    </tr>\n",
       "    <tr>\n",
       "      <th>L_nm_nm</th>\n",
       "      <td>-0.62897907394052888</td>\n",
       "      <td>0.16297770636358416</td>\n",
       "    </tr>\n",
       "    <tr>\n",
       "      <th>L_nf_nm</th>\n",
       "      <td>-0.71657048417119440</td>\n",
       "      <td>0.21897580018283760</td>\n",
       "    </tr>\n",
       "    <tr>\n",
       "      <th>L_nf_nf</th>\n",
       "      <td>0.17230023681563689</td>\n",
       "      <td>0.18152558480061301</td>\n",
       "    </tr>\n",
       "    <tr>\n",
       "      <th>LJ_nm_nm</th>\n",
       "      <td>0.35609494558421118</td>\n",
       "      <td>5.6002555617359596E-002</td>\n",
       "    </tr>\n",
       "    <tr>\n",
       "      <th>LJ_nf_nm</th>\n",
       "      <td>0.32263747174162877</td>\n",
       "      <td>5.4073271647436999E-002</td>\n",
       "    </tr>\n",
       "    <tr>\n",
       "      <th>LJ_nf_nf</th>\n",
       "      <td>3.0638961439572076E-002</td>\n",
       "      <td>2.0752378207620523E-002</td>\n",
       "    </tr>\n",
       "    <tr>\n",
       "      <th>LW</th>\n",
       "      <td>0.0000000000000000</td>\n",
       "      <td>0.0000000000000000</td>\n",
       "    </tr>\n",
       "    <tr>\n",
       "      <th>LDISC_nm_nm</th>\n",
       "      <td>0.13131944602789733</td>\n",
       "      <td>7.1439391222428098E-003</td>\n",
       "    </tr>\n",
       "    <tr>\n",
       "      <th>LDISC_nf_nm</th>\n",
       "      <td>0.11761428462084805</td>\n",
       "      <td>8.3593052560942578E-003</td>\n",
       "    </tr>\n",
       "    <tr>\n",
       "      <th>LDISC_nf_nf</th>\n",
       "      <td>-1.3902509265334234E-002</td>\n",
       "      <td>2.0606063049319182E-003</td>\n",
       "    </tr>\n",
       "    <tr>\n",
       "      <th>scale_m</th>\n",
       "      <td>1.0000000000000000</td>\n",
       "      <td>0.0000000000000000</td>\n",
       "    </tr>\n",
       "    <tr>\n",
       "      <th>scale_f</th>\n",
       "      <td>1.0000000000000000</td>\n",
       "      <td>0.0000000000000000</td>\n",
       "    </tr>\n",
       "    <tr>\n",
       "      <th>scale_h</th>\n",
       "      <td>1.0000000000000000</td>\n",
       "      <td>0.0000000000000000</td>\n",
       "    </tr>\n",
       "  </tbody>\n",
       "</table>\n",
       "</div>"
      ],
      "text/plain": [
       "                                       par                       se\n",
       "alpha_c            3.7033472024245194E-002  1.7546656331714212E-002\n",
       "alpha_lm_cons          -2.2601473741661451      0.51547286728631581\n",
       "alpha_lm_age           0.61759661930699639      0.10328785974972771\n",
       "alpha_lm_hlim           1.7526107435631357      0.54499726261589565\n",
       "alpha_lm_college  -6.0641315995189911E-002      0.23339240688929530\n",
       "alpha_lm_male          0.15057566321894247      0.31157543646987290\n",
       "alpha_lm_job          -0.37211513217848757      0.32051238896011691\n",
       "alpha_lf                0.0000000000000000       0.0000000000000000\n",
       "alpha_lm_lf            0.27013434128914710  5.3431470836475710E-002\n",
       "beta_c             6.3355934821976809E-002  3.0866180583610691E-002\n",
       "beta_lf_cons          -0.99051848442704660      0.47332442257309232\n",
       "beta_lf_age            0.88245380570934639      0.16621366074608138\n",
       "beta_lf_hlim           0.68278827478962134      0.58622782672182805\n",
       "beta_lf_college   -8.6218314366451720E-002      0.28410434756623104\n",
       "beta_lf_male            1.9448977479045464      0.60518016132712449\n",
       "beta_lf_job        7.2351009223593638E-002      0.30536792492078130\n",
       "beta_lm                 0.0000000000000000       0.0000000000000000\n",
       "beta_lm_lf             0.14015745894195492  3.9145086162025833E-002\n",
       "mu                -3.0163967235429863E-002      0.46149301175228696\n",
       "wageratio              0.93491051754057020      0.55951037132074433\n",
       "log_rho_m          7.1020527986346366E-002  1.5733527543965335E-002\n",
       "log_rho_f          1.4962558455084325E-002  1.6885608209621483E-002\n",
       "tau_m_0                -3.0000000000000000       0.0000000000000000\n",
       "log_tau_m               1.0000000000000000       0.0000000000000000\n",
       "log_tau_m               1.0000000000000000       0.0000000000000000\n",
       "log_tau_m               1.0000000000000000       0.0000000000000000\n",
       "log_tau_m               1.0000000000000000       0.0000000000000000\n",
       "log_tau_m               1.0000000000000000       0.0000000000000000\n",
       "log_tau_m               1.0000000000000000       0.0000000000000000\n",
       "log_tau_m               1.0000000000000000       0.0000000000000000\n",
       "log_tau_m               1.0000000000000000       0.0000000000000000\n",
       "tau_f_0                -3.0000000000000000       0.0000000000000000\n",
       "log_tau_f               1.0000000000000000       0.0000000000000000\n",
       "log_tau_f               1.0000000000000000       0.0000000000000000\n",
       "log_tau_f               1.0000000000000000       0.0000000000000000\n",
       "log_tau_f               1.0000000000000000       0.0000000000000000\n",
       "log_tau_f               1.0000000000000000       0.0000000000000000\n",
       "log_tau_f               1.0000000000000000       0.0000000000000000\n",
       "log_tau_f               1.0000000000000000       0.0000000000000000\n",
       "log_tau_f               1.0000000000000000       0.0000000000000000\n",
       "log_sig_m               0.0000000000000000       0.0000000000000000\n",
       "log_sig_f               0.0000000000000000       0.0000000000000000\n",
       "L_nm_nm               -0.62897907394052888      0.16297770636358416\n",
       "L_nf_nm               -0.71657048417119440      0.21897580018283760\n",
       "L_nf_nf                0.17230023681563689      0.18152558480061301\n",
       "LJ_nm_nm               0.35609494558421118  5.6002555617359596E-002\n",
       "LJ_nf_nm               0.32263747174162877  5.4073271647436999E-002\n",
       "LJ_nf_nf           3.0638961439572076E-002  2.0752378207620523E-002\n",
       "LW                      0.0000000000000000       0.0000000000000000\n",
       "LDISC_nm_nm            0.13131944602789733  7.1439391222428098E-003\n",
       "LDISC_nf_nm            0.11761428462084805  8.3593052560942578E-003\n",
       "LDISC_nf_nf       -1.3902509265334234E-002  2.0606063049319182E-003\n",
       "scale_m                 1.0000000000000000       0.0000000000000000\n",
       "scale_f                 1.0000000000000000       0.0000000000000000\n",
       "scale_h                 1.0000000000000000       0.0000000000000000"
      ]
     },
     "execution_count": 9,
     "metadata": {},
     "output_type": "execute_result"
    }
   ],
   "source": [
    "hdisc = sp('hdiscount')\n",
    "hdisc.chgoption('idiscount','T')\n",
    "hdisc.chgoption('idischetero','T')\n",
    "hdisc.chgoption('iload','T')\n",
    "hdisc.estimate()\n",
    "print(hdisc.loglike)\n",
    "hdisc.params"
   ]
  },
  {
   "cell_type": "markdown",
   "metadata": {},
   "source": [
    "### Table with LR Tests"
   ]
  },
  {
   "cell_type": "code",
   "execution_count": 10,
   "metadata": {
    "ExecuteTime": {
     "end_time": "2019-05-13T17:16:22.659649Z",
     "start_time": "2019-05-13T17:16:22.649543Z"
    }
   },
   "outputs": [
    {
     "data": {
      "text/html": [
       "<div>\n",
       "<style scoped>\n",
       "    .dataframe tbody tr th:only-of-type {\n",
       "        vertical-align: middle;\n",
       "    }\n",
       "\n",
       "    .dataframe tbody tr th {\n",
       "        vertical-align: top;\n",
       "    }\n",
       "\n",
       "    .dataframe thead th {\n",
       "        text-align: right;\n",
       "    }\n",
       "</style>\n",
       "<table border=\"1\" class=\"dataframe\">\n",
       "  <thead>\n",
       "    <tr style=\"text-align: right;\">\n",
       "      <th></th>\n",
       "      <th>Loglikehood Value</th>\n",
       "      <th>LR Statistic</th>\n",
       "    </tr>\n",
       "  </thead>\n",
       "  <tbody>\n",
       "    <tr>\n",
       "      <th>Baseline</th>\n",
       "      <td>-2594.043119</td>\n",
       "      <td>0.000000</td>\n",
       "    </tr>\n",
       "    <tr>\n",
       "      <th>Fixed Discount Rates (2)</th>\n",
       "      <td>-2626.181673</td>\n",
       "      <td>64.277109</td>\n",
       "    </tr>\n",
       "    <tr>\n",
       "      <th>No Correlation UH (1)</th>\n",
       "      <td>-2594.047248</td>\n",
       "      <td>0.008258</td>\n",
       "    </tr>\n",
       "    <tr>\n",
       "      <th>No Complementarity (5)</th>\n",
       "      <td>-2849.321167</td>\n",
       "      <td>510.556097</td>\n",
       "    </tr>\n",
       "    <tr>\n",
       "      <th>Unitary (1)</th>\n",
       "      <td>-2596.575747</td>\n",
       "      <td>5.065256</td>\n",
       "    </tr>\n",
       "  </tbody>\n",
       "</table>\n",
       "</div>"
      ],
      "text/plain": [
       "                          Loglikehood Value  LR Statistic\n",
       "Baseline                       -2594.043119      0.000000\n",
       "Fixed Discount Rates (2)       -2626.181673     64.277109\n",
       "No Correlation UH (1)          -2594.047248      0.008258\n",
       "No Complementarity (5)         -2849.321167    510.556097\n",
       "Unitary (1)                    -2596.575747      5.065256"
      ]
     },
     "execution_count": 10,
     "metadata": {},
     "output_type": "execute_result"
    }
   ],
   "source": [
    "import pandas as pd\n",
    "data = [disc.loglike,base.loglike,uncor.loglike,nocomp.loglike,unitary.loglike]\n",
    "lr = [0]\n",
    "for i in range(1,len(data)):\n",
    "    lr.append(-2.0*(data[i]-data[0]))\n",
    "names = ['Baseline','Fixed Discount Rates (2)','No Correlation UH (1)','No Complementarity (5)','Unitary (1)']\n",
    "table = pd.DataFrame(data=list(zip(data,lr)),index=names,columns=['Loglikehood Value','LR Statistic'])\n",
    "def f(x):\n",
    "    return '{:1.3f}'.format(x)\n",
    "with open('../tex/tables/lrtests.tex','w') as tf:\n",
    "    tf.write(table.to_latex(formatters=[f,f]))\n",
    "table    "
   ]
  },
  {
   "cell_type": "markdown",
   "metadata": {},
   "source": [
    "Critical values at 5% for these tests:"
   ]
  },
  {
   "cell_type": "code",
   "execution_count": 11,
   "metadata": {
    "ExecuteTime": {
     "end_time": "2019-05-13T17:16:22.874257Z",
     "start_time": "2019-05-13T17:16:22.660845Z"
    }
   },
   "outputs": [
    {
     "data": {
      "text/plain": [
       "[3.8414588206941236, 5.99146454710798, 11.070497693516351]"
      ]
     },
     "execution_count": 11,
     "metadata": {},
     "output_type": "execute_result"
    }
   ],
   "source": [
    "from scipy.stats import chi2\n",
    "[chi2(1).ppf(0.95),chi2(2).ppf(0.95),chi2(5).ppf(0.95)]"
   ]
  },
  {
   "cell_type": "markdown",
   "metadata": {},
   "source": [
    "## Correlation with Expected Retirement in HRS"
   ]
  },
  {
   "cell_type": "code",
   "execution_count": 12,
   "metadata": {
    "ExecuteTime": {
     "end_time": "2019-05-13T17:16:23.158391Z",
     "start_time": "2019-05-13T17:16:22.875619Z"
    }
   },
   "outputs": [],
   "source": [
    "disc.sim['rexpret'] = disc.sim['rage_mod'] + (disc.sim['rexpret']-2011)\n",
    "disc.sim['sexpret'] = disc.sim['sage_mod'] + (disc.sim['sexpret']-2011)\n"
   ]
  },
  {
   "cell_type": "code",
   "execution_count": 13,
   "metadata": {
    "ExecuteTime": {
     "end_time": "2019-05-13T17:16:23.174658Z",
     "start_time": "2019-05-13T17:16:23.160217Z"
    }
   },
   "outputs": [
    {
     "data": {
      "text/html": [
       "<div>\n",
       "<style scoped>\n",
       "    .dataframe tbody tr th:only-of-type {\n",
       "        vertical-align: middle;\n",
       "    }\n",
       "\n",
       "    .dataframe tbody tr th {\n",
       "        vertical-align: top;\n",
       "    }\n",
       "\n",
       "    .dataframe thead th {\n",
       "        text-align: right;\n",
       "    }\n",
       "</style>\n",
       "<table border=\"1\" class=\"dataframe\">\n",
       "  <thead>\n",
       "    <tr style=\"text-align: right;\">\n",
       "      <th></th>\n",
       "      <th>rexpret</th>\n",
       "      <th>sexpret</th>\n",
       "    </tr>\n",
       "  </thead>\n",
       "  <tbody>\n",
       "    <tr>\n",
       "      <th>count</th>\n",
       "      <td>200.000000</td>\n",
       "      <td>257.000000</td>\n",
       "    </tr>\n",
       "    <tr>\n",
       "      <th>mean</th>\n",
       "      <td>64.870000</td>\n",
       "      <td>64.459144</td>\n",
       "    </tr>\n",
       "    <tr>\n",
       "      <th>std</th>\n",
       "      <td>4.203743</td>\n",
       "      <td>4.221328</td>\n",
       "    </tr>\n",
       "    <tr>\n",
       "      <th>min</th>\n",
       "      <td>54.000000</td>\n",
       "      <td>54.000000</td>\n",
       "    </tr>\n",
       "    <tr>\n",
       "      <th>25%</th>\n",
       "      <td>62.000000</td>\n",
       "      <td>62.000000</td>\n",
       "    </tr>\n",
       "    <tr>\n",
       "      <th>50%</th>\n",
       "      <td>65.000000</td>\n",
       "      <td>64.000000</td>\n",
       "    </tr>\n",
       "    <tr>\n",
       "      <th>75%</th>\n",
       "      <td>68.000000</td>\n",
       "      <td>66.000000</td>\n",
       "    </tr>\n",
       "    <tr>\n",
       "      <th>max</th>\n",
       "      <td>84.000000</td>\n",
       "      <td>80.000000</td>\n",
       "    </tr>\n",
       "  </tbody>\n",
       "</table>\n",
       "</div>"
      ],
      "text/plain": [
       "          rexpret     sexpret\n",
       "count  200.000000  257.000000\n",
       "mean    64.870000   64.459144\n",
       "std      4.203743    4.221328\n",
       "min     54.000000   54.000000\n",
       "25%     62.000000   62.000000\n",
       "50%     65.000000   64.000000\n",
       "75%     68.000000   66.000000\n",
       "max     84.000000   80.000000"
      ]
     },
     "execution_count": 13,
     "metadata": {},
     "output_type": "execute_result"
    }
   ],
   "source": [
    "\n",
    "disc.sim[['rexpret','sexpret']].describe()\n",
    "  "
   ]
  },
  {
   "cell_type": "markdown",
   "metadata": {},
   "source": [
    "Correlations with simulated expected retirement age"
   ]
  },
  {
   "cell_type": "code",
   "execution_count": 14,
   "metadata": {
    "ExecuteTime": {
     "end_time": "2019-05-13T17:16:23.183336Z",
     "start_time": "2019-05-13T17:16:23.175940Z"
    }
   },
   "outputs": [
    {
     "name": "stdout",
     "output_type": "stream",
     "text": [
      "Males   :                rexpret  rexpret_sim\n",
      "rexpret      1.000000     0.198724\n",
      "rexpret_sim  0.198724     1.000000\n",
      "Females :                sexpret  sexpret_sim\n",
      "sexpret      1.000000     0.273366\n",
      "sexpret_sim  0.273366     1.000000\n"
     ]
    }
   ],
   "source": [
    "\n",
    "print('Males   : ',disc.sim[['rexpret','rexpret_sim']].corr())\n",
    "print('Females : ',disc.sim[['sexpret','sexpret_sim']].corr())\n",
    "    "
   ]
  },
  {
   "cell_type": "markdown",
   "metadata": {},
   "source": [
    "We will do a figure to check correlation"
   ]
  },
  {
   "cell_type": "code",
   "execution_count": 15,
   "metadata": {
    "ExecuteTime": {
     "end_time": "2019-05-13T17:16:23.444568Z",
     "start_time": "2019-05-13T17:16:23.184651Z"
    }
   },
   "outputs": [
    {
     "data": {
      "image/png": "[encoded data removed]",
      "text/plain": [
       "<Figure size 432x288 with 1 Axes>"
      ]
     },
     "metadata": {},
     "output_type": "display_data"
    }
   ],
   "source": [
    "from scipy.stats import linregress\n",
    "data = disc.sim[['rexpret_sim','rexpret']].dropna()\n",
    "x = data['rexpret_sim']\n",
    "y = data['rexpret']\n",
    "slope, intercept, r_value, p_value, std_err = linregress(x,y)\n",
    "line = slope*x+intercept\n",
    "plt.figure()\n",
    "plt.scatter(x,y,label='')\n",
    "plt.plot(x, line, 'r', label='y={:.2f}x+{:.2f}: $R^2$={:.2f}'.format(slope,intercept,r_value))\n",
    "plt.xlabel('expected retirement age (Model)')\n",
    "plt.ylabel('expected retirement age (HRS)')\n",
    "plt.legend(loc=4)\n",
    "plt.savefig('../tex/figures/match_males.eps')\n",
    "plt.show()"
   ]
  },
  {
   "cell_type": "code",
   "execution_count": 16,
   "metadata": {
    "ExecuteTime": {
     "end_time": "2019-05-13T17:16:23.592318Z",
     "start_time": "2019-05-13T17:16:23.446187Z"
    }
   },
   "outputs": [
    {
     "data": {
      "image/png": "[encoded data removed]",
      "text/plain": [
       "<Figure size 432x288 with 1 Axes>"
      ]
     },
     "metadata": {},
     "output_type": "display_data"
    }
   ],
   "source": [
    "from scipy.stats import linregress\n",
    "data = disc.sim[['sexpret_sim','sexpret']].dropna()\n",
    "x = data['sexpret_sim']\n",
    "y = data['sexpret']\n",
    "slope, intercept, r_value, p_value, std_err = linregress(x,y)\n",
    "line = slope*x+intercept\n",
    "plt.figure()\n",
    "plt.scatter(x,y,label='')\n",
    "plt.plot(x, line, 'r', label='y={:.2f}x+{:.2f}: $R^2$={:.2f}'.format(slope,intercept,r_value))\n",
    "plt.xlabel('expected retirement age (Model)')\n",
    "plt.ylabel('expected retirement age (HRS)')\n",
    "plt.legend(loc=4)\n",
    "plt.savefig('../tex/figures/match_females.eps')\n",
    "plt.show()"
   ]
  },
  {
   "cell_type": "markdown",
   "metadata": {},
   "source": [
    "## Distribution of Retirement Ages"
   ]
  },
  {
   "cell_type": "code",
   "execution_count": 17,
   "metadata": {
    "ExecuteTime": {
     "end_time": "2019-05-13T17:16:23.957733Z",
     "start_time": "2019-05-13T17:16:23.593770Z"
    }
   },
   "outputs": [
    {
     "name": "stdout",
     "output_type": "stream",
     "text": [
      "       rexpret_sim  sexpret_sim\n",
      "count   464.000000   464.000000\n",
      "mean     66.743534    63.657328\n",
      "std       6.687805     6.814499\n",
      "min      51.000000    50.000000\n",
      "25%      62.000000    59.000000\n",
      "50%      66.000000    62.000000\n",
      "75%      72.000000    68.000000\n",
      "max      80.000000    80.000000\n",
      "correlation :               rexpret_sim  sexpret_sim\n",
      "rexpret_sim     1.000000     0.702591\n",
      "sexpret_sim     0.702591     1.000000\n"
     ]
    },
    {
     "data": {
      "image/png": "[encoded data removed]",
      "text/plain": [
       "<Figure size 432x288 with 1 Axes>"
      ]
     },
     "metadata": {},
     "output_type": "display_data"
    }
   ],
   "source": [
    "%matplotlib inline\n",
    "from scipy.stats import gaussian_kde\n",
    "from numba import jit\n",
    "import numpy as np\n",
    "x = disc.sim['rexpret_sim'].tolist()\n",
    "y = disc.sim['sexpret_sim'].tolist()\n",
    "print(disc.sim[['rexpret_sim','sexpret_sim']].describe())\n",
    "print('correlation : ', disc.sim[['rexpret_sim','sexpret_sim']].corr())\n",
    "X, Y = np.mgrid[60:69:10j, 60:69:10j]\n",
    "positions = np.vstack([X.ravel(), Y.ravel()])\n",
    "values = np.vstack([x, y])\n",
    "kernel = gaussian_kde(values)\n",
    "Z = np.reshape(kernel(positions).T, X.shape)\n",
    "plt.figure()\n",
    "plt.contour(X,Y,Z)\n",
    "plt.xlabel('Expected Retirement Age Husband')\n",
    "plt.ylabel('Expected Retirement Age Wife')\n",
    "plt.savefig('../tex/figures/retages.eps')"
   ]
  },
  {
   "cell_type": "code",
   "execution_count": 18,
   "metadata": {
    "ExecuteTime": {
     "end_time": "2019-05-13T17:16:24.130932Z",
     "start_time": "2019-05-13T17:16:23.959431Z"
    }
   },
   "outputs": [
    {
     "name": "stdout",
     "output_type": "stream",
     "text": [
      "       distance_m  distance_f\n",
      "count  464.000000  464.000000\n",
      "mean    10.107759    7.995690\n",
      "std      7.245556    7.211401\n",
      "min      0.000000    0.000000\n",
      "25%      4.000000    1.000000\n",
      "50%     10.000000    7.000000\n",
      "75%     15.000000   13.000000\n",
      "max     29.000000   31.000000\n",
      "correlation:              distance_m  distance_f\n",
      "distance_m    1.000000    0.721982\n",
      "distance_f    0.721982    1.000000\n"
     ]
    },
    {
     "data": {
      "image/png": "[encoded data removed]",
      "text/plain": [
       "<Figure size 432x288 with 1 Axes>"
      ]
     },
     "metadata": {},
     "output_type": "display_data"
    }
   ],
   "source": [
    "disc.sim['distance_m'] = disc.sim['rexpret_sim'] - disc.sim['rage_mod']\n",
    "disc.sim['distance_f'] = disc.sim['sexpret_sim'] - disc.sim['sage_mod']\n",
    "print(disc.sim[['distance_m','distance_f']].describe())\n",
    "print('correlation: ', disc.sim[['distance_m','distance_f']].corr())\n",
    "\n",
    "%matplotlib inline\n",
    "from scipy.stats import gaussian_kde\n",
    "from numba import jit\n",
    "import numpy as np\n",
    "x = disc.sim['distance_m'].tolist()\n",
    "y = disc.sim['distance_f'].tolist()\n",
    "\n",
    "X, Y = np.mgrid[0:20:20j, 0:20:20j]\n",
    "positions = np.vstack([X.ravel(), Y.ravel()])\n",
    "values = np.vstack([x, y])\n",
    "kernel = gaussian_kde(values)\n",
    "Z = np.reshape(kernel(positions).T, X.shape)\n",
    "plt.figure()\n",
    "plt.contour(X,Y,Z)\n",
    "xx = np.linspace(0,20,20)\n",
    "plt.fill_between(xx, xx-1, xx+1, color='grey', alpha='0.1')\n",
    "plt.xlim([0,20])\n",
    "plt.ylim([0,20])\n",
    "plt.xlabel('Expected Distance (yrs) to Retirement Husband')\n",
    "plt.ylabel('Expected Distance (yrs) to Retirement Wife')\n",
    "plt.savefig('../tex/figures/distances.eps',dpi=600)"
   ]
  },
  {
   "cell_type": "markdown",
   "metadata": {},
   "source": [
    "## Joint Retirement"
   ]
  },
  {
   "cell_type": "markdown",
   "metadata": {},
   "source": [
    "We will now re-rerun the discount model (baseline) with three scenarios: reshuffling heterogeneity, reshuffling wages and shutting down complementarity. "
   ]
  },
  {
   "cell_type": "code",
   "execution_count": 19,
   "metadata": {
    "ExecuteTime": {
     "end_time": "2019-05-13T17:16:32.287999Z",
     "start_time": "2019-05-13T17:16:24.132550Z"
    }
   },
   "outputs": [
    {
     "name": "stdout",
     "output_type": "stream",
     "text": [
      "Default options: \n",
      "isurvival  =  T\n",
      "iload  =  F\n",
      "iestimate  =  T\n",
      "data  =  hrs_final_ref.csv\n",
      "info  =  info_ref.dat\n",
      "includeratings  =  F\n",
      "icomplement  =  T\n",
      "ihetero  =  T\n",
      "ijointhetero  =  T\n",
      "ibargaininghetero  =  F\n",
      "idischetero  =  F\n",
      "icorr  =  T\n",
      "iunitary  =  F\n",
      "idiscount  =  F\n",
      "ddiscount  =  0.95\n",
      "idirect  =  F\n",
      "arf  =  0.06\n",
      "drc  =  0.08\n",
      "reprate  =  0.6\n",
      "ishufheter  =  F\n",
      "ishufwages  =  F\n",
      "iblockcomp  =  F\n",
      "ifixcorr  =  F\n",
      "dfixrho  =  0.5\n",
      "ifixdisccorr  =  F\n",
      "dfixdiscrho  =  0.5\n",
      "inoestim  =  F\n",
      "changed item  iload  with value F  to  T  ...\n",
      "changed item  idiscount  with value F  to  T  ...\n",
      "changed item  ishufwages  with value F  to  T  ...\n"
     ]
    },
    {
     "name": "stderr",
     "output_type": "stream",
     "text": [
      "/Users/loulou/joint/runtime/tools/models.py:175: RuntimeWarning: invalid value encountered in double_scalars\n",
      "  cov[1,0] = cov[1,0]/np.sqrt(cov[0,0]*cov[1,1])\n"
     ]
    }
   ],
   "source": [
    "wages = sp('discount')\n",
    "wages.chgoption('iload','T')\n",
    "wages.chgoption('idiscount','T')\n",
    "wages.chgoption('ishufwages','T')\n",
    "wages.estimate()"
   ]
  },
  {
   "cell_type": "code",
   "execution_count": 20,
   "metadata": {
    "ExecuteTime": {
     "end_time": "2019-05-13T17:16:40.441488Z",
     "start_time": "2019-05-13T17:16:32.290055Z"
    }
   },
   "outputs": [
    {
     "name": "stdout",
     "output_type": "stream",
     "text": [
      "Default options: \n",
      "isurvival  =  T\n",
      "iload  =  F\n",
      "iestimate  =  T\n",
      "data  =  hrs_final_ref.csv\n",
      "info  =  info_ref.dat\n",
      "includeratings  =  F\n",
      "icomplement  =  T\n",
      "ihetero  =  T\n",
      "ijointhetero  =  T\n",
      "ibargaininghetero  =  F\n",
      "idischetero  =  F\n",
      "icorr  =  T\n",
      "iunitary  =  F\n",
      "idiscount  =  F\n",
      "ddiscount  =  0.95\n",
      "idirect  =  F\n",
      "arf  =  0.06\n",
      "drc  =  0.08\n",
      "reprate  =  0.6\n",
      "ishufheter  =  F\n",
      "ishufwages  =  F\n",
      "iblockcomp  =  F\n",
      "ifixcorr  =  F\n",
      "dfixrho  =  0.5\n",
      "ifixdisccorr  =  F\n",
      "dfixdiscrho  =  0.5\n",
      "inoestim  =  F\n",
      "changed item  iload  with value F  to  T  ...\n",
      "changed item  idiscount  with value F  to  T  ...\n",
      "changed item  ishufheter  with value F  to  T  ...\n"
     ]
    },
    {
     "name": "stderr",
     "output_type": "stream",
     "text": [
      "/Users/loulou/joint/runtime/tools/models.py:175: RuntimeWarning: invalid value encountered in double_scalars\n",
      "  cov[1,0] = cov[1,0]/np.sqrt(cov[0,0]*cov[1,1])\n"
     ]
    }
   ],
   "source": [
    "heter = sp('discount')\n",
    "heter.chgoption('iload','T')\n",
    "heter.chgoption('idiscount','T')\n",
    "heter.chgoption('ishufheter','T')\n",
    "heter.estimate()"
   ]
  },
  {
   "cell_type": "code",
   "execution_count": 21,
   "metadata": {
    "ExecuteTime": {
     "end_time": "2019-05-13T17:18:45.807686Z",
     "start_time": "2019-05-13T17:16:40.443801Z"
    }
   },
   "outputs": [
    {
     "name": "stdout",
     "output_type": "stream",
     "text": [
      "Default options: \n",
      "isurvival  =  T\n",
      "iload  =  F\n",
      "iestimate  =  T\n",
      "data  =  hrs_final_ref.csv\n",
      "info  =  info_ref.dat\n",
      "includeratings  =  F\n",
      "icomplement  =  T\n",
      "ihetero  =  T\n",
      "ijointhetero  =  T\n",
      "ibargaininghetero  =  F\n",
      "idischetero  =  F\n",
      "icorr  =  T\n",
      "iunitary  =  F\n",
      "idiscount  =  F\n",
      "ddiscount  =  0.95\n",
      "idirect  =  F\n",
      "arf  =  0.06\n",
      "drc  =  0.08\n",
      "reprate  =  0.6\n",
      "ishufheter  =  F\n",
      "ishufwages  =  F\n",
      "iblockcomp  =  F\n",
      "ifixcorr  =  F\n",
      "dfixrho  =  0.5\n",
      "ifixdisccorr  =  F\n",
      "dfixdiscrho  =  0.5\n",
      "inoestim  =  F\n",
      "changed item  iload  with value F  to  T  ...\n",
      "changed item  idiscount  with value F  to  T  ...\n",
      "changed item  iblockcomp  with value F  to  T  ...\n"
     ]
    },
    {
     "name": "stderr",
     "output_type": "stream",
     "text": [
      "/Users/loulou/joint/runtime/tools/models.py:175: RuntimeWarning: invalid value encountered in double_scalars\n",
      "  cov[1,0] = cov[1,0]/np.sqrt(cov[0,0]*cov[1,1])\n"
     ]
    }
   ],
   "source": [
    "comp = sp('discount')\n",
    "comp.chgoption('iload','T')\n",
    "comp.chgoption('idiscount','T')\n",
    "comp.chgoption('iblockcomp','T')\n",
    "comp.estimate()"
   ]
  },
  {
   "cell_type": "code",
   "execution_count": 22,
   "metadata": {
    "ExecuteTime": {
     "end_time": "2019-05-13T17:18:45.999666Z",
     "start_time": "2019-05-13T17:18:45.809690Z"
    }
   },
   "outputs": [
    {
     "data": {
      "image/png": "[encoded data removed]",
      "text/plain": [
       "<Figure size 432x288 with 1 Axes>"
      ]
     },
     "metadata": {},
     "output_type": "display_data"
    },
    {
     "data": {
      "text/html": [
       "<div>\n",
       "<style scoped>\n",
       "    .dataframe tbody tr th:only-of-type {\n",
       "        vertical-align: middle;\n",
       "    }\n",
       "\n",
       "    .dataframe tbody tr th {\n",
       "        vertical-align: top;\n",
       "    }\n",
       "\n",
       "    .dataframe thead th {\n",
       "        text-align: right;\n",
       "    }\n",
       "</style>\n",
       "<table border=\"1\" class=\"dataframe\">\n",
       "  <thead>\n",
       "    <tr style=\"text-align: right;\">\n",
       "      <th></th>\n",
       "      <th>Ret Age Males</th>\n",
       "      <th>Ret Age Females</th>\n",
       "      <th>Fraction Joint</th>\n",
       "    </tr>\n",
       "  </thead>\n",
       "  <tbody>\n",
       "    <tr>\n",
       "      <th>Baseline</th>\n",
       "      <td>66.743534</td>\n",
       "      <td>63.657328</td>\n",
       "      <td>0.286638</td>\n",
       "    </tr>\n",
       "    <tr>\n",
       "      <th>Shuffling Wages</th>\n",
       "      <td>66.672414</td>\n",
       "      <td>63.489224</td>\n",
       "      <td>0.224138</td>\n",
       "    </tr>\n",
       "    <tr>\n",
       "      <th>Shuffling UH</th>\n",
       "      <td>66.709052</td>\n",
       "      <td>63.674569</td>\n",
       "      <td>0.256466</td>\n",
       "    </tr>\n",
       "    <tr>\n",
       "      <th>No Complementarity</th>\n",
       "      <td>67.200431</td>\n",
       "      <td>64.060345</td>\n",
       "      <td>0.204741</td>\n",
       "    </tr>\n",
       "  </tbody>\n",
       "</table>\n",
       "</div>"
      ],
      "text/plain": [
       "                    Ret Age Males  Ret Age Females  Fraction Joint\n",
       "Baseline                66.743534        63.657328        0.286638\n",
       "Shuffling Wages         66.672414        63.489224        0.224138\n",
       "Shuffling UH            66.709052        63.674569        0.256466\n",
       "No Complementarity      67.200431        64.060345        0.204741"
      ]
     },
     "execution_count": 22,
     "metadata": {},
     "output_type": "execute_result"
    }
   ],
   "source": [
    "specs = [disc,wages,heter,comp]\n",
    "names =  ['Baseline','Shuffling Wages','Shuffling UH','No Complementarity']\n",
    "data = []\n",
    "plt.figure()\n",
    "for i,s in enumerate(specs):\n",
    "    s.sim['distance_m'] = s.sim['rexpret_sim'] - s.sim['rage_mod']\n",
    "    s.sim['distance_f'] = s.sim['sexpret_sim'] - s.sim['sage_mod']\n",
    "    s.sim['joint'] = np.abs(s.sim['distance_m'] - s.sim['distance_f'])<=1.0\n",
    "    s.sim['joint_yrs'] = s.sim['distance_m'] - s.sim['distance_f']\n",
    "    x = s.sim['joint_yrs'].values\n",
    "    x.sort()\n",
    "    ff = gaussian_kde(x)\n",
    "    plt.plot(x,ff(x),label=names[i])\n",
    "    data.append([s.sim['rexpret_sim'].mean(),s.sim['sexpret_sim'].mean(),s.sim['joint'].mean()])\n",
    "table = pd.DataFrame(data=data,index=names,columns=['Ret Age Males','Ret Age Females','Fraction Joint'])  \n",
    "def f(x):\n",
    "    return '{:1.3f}'.format(x)\n",
    "with open('../tex/tables/joint.tex','w') as tf:\n",
    "    tf.write(table.to_latex(formatters=[f,f,f]))\n",
    "plt.legend(loc=2)\n",
    "plt.xlabel('difference in distance to retirement')\n",
    "plt.ylabel('density')\n",
    "plt.xlim([-15,15])\n",
    "plt.savefig('../tex/figures/compare_distances.eps')\n",
    "plt.show()\n",
    "table"
   ]
  },
  {
   "cell_type": "code",
   "execution_count": 23,
   "metadata": {
    "ExecuteTime": {
     "end_time": "2019-05-13T17:18:46.169873Z",
     "start_time": "2019-05-13T17:18:46.001175Z"
    }
   },
   "outputs": [
    {
     "data": {
      "image/png": "[encoded data removed]",
      "text/plain": [
       "<Figure size 432x288 with 1 Axes>"
      ]
     },
     "metadata": {},
     "output_type": "display_data"
    }
   ],
   "source": [
    "%matplotlib inline\n",
    "from scipy.stats import gaussian_kde\n",
    "from numba import jit\n",
    "import numpy as np\n",
    "x = comp.sim['distance_m'].tolist()\n",
    "y = comp.sim['distance_f'].tolist()\n",
    "\n",
    "X, Y = np.mgrid[0:20:20j, 0:20:20j]\n",
    "positions = np.vstack([X.ravel(), Y.ravel()])\n",
    "values = np.vstack([x, y])\n",
    "kernel = gaussian_kde(values)\n",
    "Z = np.reshape(kernel(positions).T, X.shape)\n",
    "plt.figure()\n",
    "plt.contour(X,Y,Z)\n",
    "xx = np.linspace(0,20,20)\n",
    "plt.fill_between(xx, xx-1, xx+1, color='grey', alpha='0.1')\n",
    "plt.xlim([0,20])\n",
    "plt.ylim([0,20])\n",
    "plt.xlabel('Expected Distance (yrs) to Retirement Husband')\n",
    "plt.ylabel('Expected Distance (yrs) to Retirement Wife')\n",
    "plt.savefig('../tex/figures/distances_nocomp.eps',dpi=600)"
   ]
  },
  {
   "cell_type": "code",
   "execution_count": 24,
   "metadata": {
    "ExecuteTime": {
     "end_time": "2019-05-13T17:18:46.187967Z",
     "start_time": "2019-05-13T17:18:46.171491Z"
    }
   },
   "outputs": [
    {
     "name": "stdout",
     "output_type": "stream",
     "text": [
      "       distance_m  distance_f\n",
      "count  464.000000  464.000000\n",
      "mean    10.564655    8.398707\n",
      "std      4.507747    4.799037\n",
      "min      0.000000    0.000000\n",
      "25%      7.000000    5.000000\n",
      "50%     10.000000    8.000000\n",
      "75%     13.000000   11.000000\n",
      "max     28.000000   23.000000\n",
      "       distance_m  distance_f\n",
      "count  464.000000  464.000000\n",
      "mean    10.107759    7.995690\n",
      "std      7.245556    7.211401\n",
      "min      0.000000    0.000000\n",
      "25%      4.000000    1.000000\n",
      "50%     10.000000    7.000000\n",
      "75%     15.000000   13.000000\n",
      "max     29.000000   31.000000\n"
     ]
    }
   ],
   "source": [
    "disc.sim['agediff'] = disc.sim['rage_mod']- disc.sim['sage_mod']\n",
    "print(comp.sim[['distance_m','distance_f']].describe())\n",
    "print(disc.sim[['distance_m','distance_f']].describe())\n",
    "\n"
   ]
  },
  {
   "cell_type": "markdown",
   "metadata": {},
   "source": [
    "# Policy Simulation"
   ]
  },
  {
   "cell_type": "markdown",
   "metadata": {},
   "source": [
    "Finally, we have to check what happens when we do policy simulations. We will do policy simulations over two parameters, the ARF (actuarial reduction factor) and the generosity of the pension (replacement rate). "
   ]
  },
  {
   "cell_type": "code",
   "execution_count": 25,
   "metadata": {
    "ExecuteTime": {
     "end_time": "2019-05-13T17:19:18.669290Z",
     "start_time": "2019-05-13T17:18:46.189409Z"
    }
   },
   "outputs": [
    {
     "name": "stdout",
     "output_type": "stream",
     "text": [
      "Default options: \n",
      "isurvival  =  T\n",
      "iload  =  F\n",
      "iestimate  =  T\n",
      "data  =  hrs_final_ref.csv\n",
      "info  =  info_ref.dat\n",
      "includeratings  =  F\n",
      "icomplement  =  T\n",
      "ihetero  =  T\n",
      "ijointhetero  =  T\n",
      "ibargaininghetero  =  F\n",
      "idischetero  =  F\n",
      "icorr  =  T\n",
      "iunitary  =  F\n",
      "idiscount  =  F\n",
      "ddiscount  =  0.95\n",
      "idirect  =  F\n",
      "arf  =  0.06\n",
      "drc  =  0.08\n",
      "reprate  =  0.6\n",
      "ishufheter  =  F\n",
      "ishufwages  =  F\n",
      "iblockcomp  =  F\n",
      "ifixcorr  =  F\n",
      "dfixrho  =  0.5\n",
      "ifixdisccorr  =  F\n",
      "dfixdiscrho  =  0.5\n",
      "inoestim  =  F\n",
      "changed item  iload  with value F  to  T  ...\n",
      "changed item  idiscount  with value F  to  T  ...\n",
      "changed item  arf  with value 0.06  to  0  ...\n",
      "changed item  drc  with value 0.08  to  0  ...\n"
     ]
    },
    {
     "name": "stderr",
     "output_type": "stream",
     "text": [
      "/Users/loulou/joint/runtime/tools/models.py:175: RuntimeWarning: invalid value encountered in double_scalars\n",
      "  cov[1,0] = cov[1,0]/np.sqrt(cov[0,0]*cov[1,1])\n"
     ]
    },
    {
     "name": "stdout",
     "output_type": "stream",
     "text": [
      "Default options: \n",
      "isurvival  =  T\n",
      "iload  =  F\n",
      "iestimate  =  T\n",
      "data  =  hrs_final_ref.csv\n",
      "info  =  info_ref.dat\n",
      "includeratings  =  F\n",
      "icomplement  =  T\n",
      "ihetero  =  T\n",
      "ijointhetero  =  T\n",
      "ibargaininghetero  =  F\n",
      "idischetero  =  F\n",
      "icorr  =  T\n",
      "iunitary  =  F\n",
      "idiscount  =  F\n",
      "ddiscount  =  0.95\n",
      "idirect  =  F\n",
      "arf  =  0.06\n",
      "drc  =  0.08\n",
      "reprate  =  0.6\n",
      "ishufheter  =  F\n",
      "ishufwages  =  F\n",
      "iblockcomp  =  F\n",
      "ifixcorr  =  F\n",
      "dfixrho  =  0.5\n",
      "ifixdisccorr  =  F\n",
      "dfixdiscrho  =  0.5\n",
      "inoestim  =  F\n",
      "changed item  iload  with value F  to  T  ...\n",
      "changed item  idiscount  with value F  to  T  ...\n",
      "changed item  arf  with value 0.06  to  0.09  ...\n",
      "changed item  drc  with value 0.08  to  0.11  ...\n",
      "Default options: \n",
      "isurvival  =  T\n",
      "iload  =  F\n",
      "iestimate  =  T\n",
      "data  =  hrs_final_ref.csv\n",
      "info  =  info_ref.dat\n",
      "includeratings  =  F\n",
      "icomplement  =  T\n",
      "ihetero  =  T\n",
      "ijointhetero  =  T\n",
      "ibargaininghetero  =  F\n",
      "idischetero  =  F\n",
      "icorr  =  T\n",
      "iunitary  =  F\n",
      "idiscount  =  F\n",
      "ddiscount  =  0.95\n",
      "idirect  =  F\n",
      "arf  =  0.06\n",
      "drc  =  0.08\n",
      "reprate  =  0.6\n",
      "ishufheter  =  F\n",
      "ishufwages  =  F\n",
      "iblockcomp  =  F\n",
      "ifixcorr  =  F\n",
      "dfixrho  =  0.5\n",
      "ifixdisccorr  =  F\n",
      "dfixdiscrho  =  0.5\n",
      "inoestim  =  F\n",
      "changed item  iload  with value F  to  T  ...\n",
      "changed item  idiscount  with value F  to  T  ...\n",
      "changed item  reprate  with value 0.6  to  0.4  ...\n",
      "Default options: \n",
      "isurvival  =  T\n",
      "iload  =  F\n",
      "iestimate  =  T\n",
      "data  =  hrs_final_ref.csv\n",
      "info  =  info_ref.dat\n",
      "includeratings  =  F\n",
      "icomplement  =  T\n",
      "ihetero  =  T\n",
      "ijointhetero  =  T\n",
      "ibargaininghetero  =  F\n",
      "idischetero  =  F\n",
      "icorr  =  T\n",
      "iunitary  =  F\n",
      "idiscount  =  F\n",
      "ddiscount  =  0.95\n",
      "idirect  =  F\n",
      "arf  =  0.06\n",
      "drc  =  0.08\n",
      "reprate  =  0.6\n",
      "ishufheter  =  F\n",
      "ishufwages  =  F\n",
      "iblockcomp  =  F\n",
      "ifixcorr  =  F\n",
      "dfixrho  =  0.5\n",
      "ifixdisccorr  =  F\n",
      "dfixdiscrho  =  0.5\n",
      "inoestim  =  F\n",
      "changed item  iload  with value F  to  T  ...\n",
      "changed item  idiscount  with value F  to  T  ...\n",
      "changed item  reprate  with value 0.6  to  0.8  ...\n"
     ]
    }
   ],
   "source": [
    "arf = [0,0.09]\n",
    "drc = [0,0.11]\n",
    "rep = [0.4,0.8]\n",
    "factors = zip(arf,drc)\n",
    "experiments = [disc]\n",
    "for a,d in factors:\n",
    "    this = sp('discount')\n",
    "    this.chgoption('iload','T')\n",
    "    this.chgoption('idiscount','T')\n",
    "    this.chgoption('arf',a)\n",
    "    this.chgoption('drc',d)\n",
    "    this.estimate()\n",
    "    this.sim['distance_m'] = this.sim['rexpret_sim'] - this.sim['rage_mod']\n",
    "    this.sim['distance_f'] = this.sim['sexpret_sim'] - this.sim['sage_mod']\n",
    "    this.sim['joint'] = np.abs(this.sim['distance_m'] - this.sim['distance_f'])<=1.0    \n",
    "    experiments.append(this)\n",
    "for r in rep:\n",
    "    this = sp('discount')\n",
    "    this.chgoption('iload','T')\n",
    "    this.chgoption('idiscount','T')\n",
    "    this.chgoption('reprate',r)\n",
    "    this.estimate()\n",
    "    this.sim['distance_m'] = this.sim['rexpret_sim'] - this.sim['rage_mod']\n",
    "    this.sim['distance_f'] = this.sim['sexpret_sim'] - this.sim['sage_mod']\n",
    "    this.sim['joint'] = np.abs(this.sim['distance_m'] - this.sim['distance_f'])<=1.0    \n",
    "    experiments.append(this)\n",
    "    "
   ]
  },
  {
   "cell_type": "code",
   "execution_count": 26,
   "metadata": {
    "ExecuteTime": {
     "end_time": "2019-05-13T17:19:18.680438Z",
     "start_time": "2019-05-13T17:19:18.670881Z"
    }
   },
   "outputs": [
    {
     "name": "stdout",
     "output_type": "stream",
     "text": [
      "                 Ret Age Males  Ret Age Females  Fraction Retiring Jointly\n",
      "Baseline             66.743534        63.657328                   0.286638\n",
      "No Penalty           64.323276        61.834052                   0.323276\n",
      "High Penalty         67.696121        64.334052                   0.228448\n",
      "Low Generosity       67.286638        64.002155                   0.221983\n",
      "High Generosity      66.314655        63.424569                   0.306034\n"
     ]
    }
   ],
   "source": [
    "data = [[e.sim['rexpret_sim'].mean(),e.sim['sexpret_sim'].mean(),e.sim['joint'].mean()] for e in experiments]\n",
    "names = ['Baseline','No Penalty','High Penalty','Low Generosity','High Generosity']\n",
    "table = pd.DataFrame(data=data,columns=['Ret Age Males','Ret Age Females','Fraction Retiring Jointly'],index=names)\n",
    "print(table)\n",
    "def f(x):\n",
    "    return '{:1.3f}'.format(x)\n",
    "with open('../tex/tables/policy.tex','w') as tf:\n",
    "    tf.write(table.to_latex(formatters=[f,f,f]))"
   ]
  }
 ],
 "metadata": {
  "kernelspec": {
   "display_name": "Python 3",
   "language": "python",
   "name": "python3"
  },
  "language_info": {
   "codemirror_mode": {
    "name": "ipython",
    "version": 3
   },
   "file_extension": ".py",
   "mimetype": "text/x-python",
   "name": "python",
   "nbconvert_exporter": "python",
   "pygments_lexer": "ipython3",
   "version": "3.6.4"
  },
  "toc": {
   "base_numbering": 1,
   "nav_menu": {},
   "number_sections": true,
   "sideBar": true,
   "skip_h1_title": false,
   "title_cell": "Table of Contents",
   "title_sidebar": "Contents",
   "toc_cell": false,
   "toc_position": {},
   "toc_section_display": true,
   "toc_window_display": false
  }
 },
 "nbformat": 4,
 "nbformat_minor": 2
}
