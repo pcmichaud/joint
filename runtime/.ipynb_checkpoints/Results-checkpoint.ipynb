{
 "cells": [
  {
   "cell_type": "markdown",
   "metadata": {},
   "source": [
    "# Obtaining Estimation and Simulation Results"
   ]
  },
  {
   "cell_type": "code",
   "execution_count": 1,
   "metadata": {},
   "outputs": [],
   "source": [
    "import os\n",
    "from matplotlib import pyplot as plt\n",
    "from tools import models"
   ]
  },
  {
   "cell_type": "markdown",
   "metadata": {},
   "source": [
    "We now create a base instance of the model (constant discount rates). This is useful for starting other specifications"
   ]
  },
  {
   "cell_type": "code",
   "execution_count": 2,
   "metadata": {},
   "outputs": [
    {
     "name": "stdout",
     "output_type": "stream",
     "text": [
      "Default options: \n",
      "isurvival  =  T\n",
      "iload  =  F\n",
      "iestimate  =  T\n",
      "data  =  hrs_final_ref.csv\n",
      "info  =  info_ref.dat\n",
      "includeratings  =  F\n",
      "icomplement  =  T\n",
      "ihetero  =  T\n",
      "ijointhetero  =  F\n",
      "ibargaininghetero  =  F\n",
      "icorr  =  T\n",
      "iunitary  =  F\n",
      "idiscount  =  F\n",
      "ddiscount  =  0.95\n",
      "idirect  =  F\n",
      "arf  =  0.06\n",
      "drc  =  0.08\n",
      "reprate  =  0.6\n",
      "ishufheter  =  F\n",
      "ishufwages  =  F\n",
      "iblockcomp  =  F\n",
      "ifixcorr  =  F\n",
      "dfixrho  =  0.5\n",
      "inoestim  =  F\n",
      "changed item  iload  with value F  to  T  ...\n",
      "changed item  ihetero  with value T  to  F  ...\n",
      "changed item  ijointhetero  with value F  to  T  ...\n"
     ]
    }
   ],
   "source": [
    "sp = models.sp\n",
    "base = sp('ref')\n",
    "base.chgoption('iload','T')"
   ]
  },
  {
   "cell_type": "markdown",
   "metadata": {},
   "source": [
    "We estimate parameters and simulate data post estimation"
   ]
  },
  {
   "cell_type": "code",
   "execution_count": 3,
   "metadata": {},
   "outputs": [
    {
     "name": "stderr",
     "output_type": "stream",
     "text": [
      "/Users/lubis/Documents/github/joint/runtime/tools/models.py:132: RuntimeWarning: invalid value encountered in double_scalars\n",
      "  cov[1,0] = cov[1,0]/np.sqrt(cov[0,0]*cov[1,1])\n"
     ]
    },
    {
     "data": {
      "text/plain": [
       "-2649.334639897691"
      ]
     },
     "execution_count": 3,
     "metadata": {},
     "output_type": "execute_result"
    }
   ],
   "source": [
    "base.estimate()\n",
    "base.loglike"
   ]
  },
  {
   "cell_type": "code",
   "execution_count": 4,
   "metadata": {},
   "outputs": [
    {
     "data": {
      "text/html": [
       "<div>\n",
       "<style scoped>\n",
       "    .dataframe tbody tr th:only-of-type {\n",
       "        vertical-align: middle;\n",
       "    }\n",
       "\n",
       "    .dataframe tbody tr th {\n",
       "        vertical-align: top;\n",
       "    }\n",
       "\n",
       "    .dataframe thead th {\n",
       "        text-align: right;\n",
       "    }\n",
       "</style>\n",
       "<table border=\"1\" class=\"dataframe\">\n",
       "  <thead>\n",
       "    <tr style=\"text-align: right;\">\n",
       "      <th></th>\n",
       "      <th>par</th>\n",
       "      <th>se</th>\n",
       "    </tr>\n",
       "  </thead>\n",
       "  <tbody>\n",
       "    <tr>\n",
       "      <th>alpha_c</th>\n",
       "      <td>0.80204428141130868</td>\n",
       "      <td>5.9862548794264676E-002</td>\n",
       "    </tr>\n",
       "    <tr>\n",
       "      <th>alpha_lm_cons</th>\n",
       "      <td>-2.5034341555867927</td>\n",
       "      <td>0.77226364438919104</td>\n",
       "    </tr>\n",
       "    <tr>\n",
       "      <th>alpha_lm_age</th>\n",
       "      <td>0.51271750289720153</td>\n",
       "      <td>0.11387214132870897</td>\n",
       "    </tr>\n",
       "    <tr>\n",
       "      <th>alpha_lm_hlim</th>\n",
       "      <td>1.5623289374800713</td>\n",
       "      <td>0.83772503487325922</td>\n",
       "    </tr>\n",
       "    <tr>\n",
       "      <th>alpha_lm_college</th>\n",
       "      <td>-0.12022570248381177</td>\n",
       "      <td>0.44099512282070130</td>\n",
       "    </tr>\n",
       "    <tr>\n",
       "      <th>alpha_lm_male</th>\n",
       "      <td>0.40914955463252128</td>\n",
       "      <td>0.65842437993706515</td>\n",
       "    </tr>\n",
       "    <tr>\n",
       "      <th>alpha_lm_job</th>\n",
       "      <td>0.13854647065054759</td>\n",
       "      <td>0.62541405708911435</td>\n",
       "    </tr>\n",
       "    <tr>\n",
       "      <th>alpha_lf</th>\n",
       "      <td>0.0000000000000000</td>\n",
       "      <td>0.0000000000000000</td>\n",
       "    </tr>\n",
       "    <tr>\n",
       "      <th>alpha_lm_lf</th>\n",
       "      <td>-0.70992974786811736</td>\n",
       "      <td>0.10183318242852138</td>\n",
       "    </tr>\n",
       "    <tr>\n",
       "      <th>beta_c</th>\n",
       "      <td>0.56550183111321384</td>\n",
       "      <td>5.1054673574210500E-002</td>\n",
       "    </tr>\n",
       "    <tr>\n",
       "      <th>beta_lf_cons</th>\n",
       "      <td>-0.34022495238569478</td>\n",
       "      <td>0.62902208006789850</td>\n",
       "    </tr>\n",
       "    <tr>\n",
       "      <th>beta_lf_age</th>\n",
       "      <td>0.71236369368018226</td>\n",
       "      <td>0.13119377518816550</td>\n",
       "    </tr>\n",
       "    <tr>\n",
       "      <th>beta_lf_hlim</th>\n",
       "      <td>1.4545814400069461</td>\n",
       "      <td>0.89414906164217134</td>\n",
       "    </tr>\n",
       "    <tr>\n",
       "      <th>beta_lf_college</th>\n",
       "      <td>-0.37927857355875749</td>\n",
       "      <td>0.42244311440772375</td>\n",
       "    </tr>\n",
       "    <tr>\n",
       "      <th>beta_lf_male</th>\n",
       "      <td>2.5089664416829525</td>\n",
       "      <td>0.72460456474019130</td>\n",
       "    </tr>\n",
       "    <tr>\n",
       "      <th>beta_lf_job</th>\n",
       "      <td>-0.11473373643052935</td>\n",
       "      <td>0.46001912757481089</td>\n",
       "    </tr>\n",
       "    <tr>\n",
       "      <th>beta_lm</th>\n",
       "      <td>0.0000000000000000</td>\n",
       "      <td>0.0000000000000000</td>\n",
       "    </tr>\n",
       "    <tr>\n",
       "      <th>beta_lm_lf</th>\n",
       "      <td>-0.66738614070820146</td>\n",
       "      <td>9.0623508911499215E-002</td>\n",
       "    </tr>\n",
       "    <tr>\n",
       "      <th>mu</th>\n",
       "      <td>6.1424081667061432E-002</td>\n",
       "      <td>0.83066213114546694</td>\n",
       "    </tr>\n",
       "    <tr>\n",
       "      <th>wageratio</th>\n",
       "      <td>1.8979346540073105</td>\n",
       "      <td>1.7376525027764833</td>\n",
       "    </tr>\n",
       "    <tr>\n",
       "      <th>log_rho_m</th>\n",
       "      <td>-5.1293294387550578E-002</td>\n",
       "      <td>0.0000000000000000</td>\n",
       "    </tr>\n",
       "    <tr>\n",
       "      <th>log_rho_f</th>\n",
       "      <td>-5.1293294387550578E-002</td>\n",
       "      <td>0.0000000000000000</td>\n",
       "    </tr>\n",
       "    <tr>\n",
       "      <th>tau_m_0</th>\n",
       "      <td>-3.0000000000000000</td>\n",
       "      <td>0.0000000000000000</td>\n",
       "    </tr>\n",
       "    <tr>\n",
       "      <th>log_tau_m</th>\n",
       "      <td>1.0000000000000000</td>\n",
       "      <td>0.0000000000000000</td>\n",
       "    </tr>\n",
       "    <tr>\n",
       "      <th>log_tau_m</th>\n",
       "      <td>1.0000000000000000</td>\n",
       "      <td>0.0000000000000000</td>\n",
       "    </tr>\n",
       "    <tr>\n",
       "      <th>log_tau_m</th>\n",
       "      <td>1.0000000000000000</td>\n",
       "      <td>0.0000000000000000</td>\n",
       "    </tr>\n",
       "    <tr>\n",
       "      <th>log_tau_m</th>\n",
       "      <td>1.0000000000000000</td>\n",
       "      <td>0.0000000000000000</td>\n",
       "    </tr>\n",
       "    <tr>\n",
       "      <th>log_tau_m</th>\n",
       "      <td>1.0000000000000000</td>\n",
       "      <td>0.0000000000000000</td>\n",
       "    </tr>\n",
       "    <tr>\n",
       "      <th>log_tau_m</th>\n",
       "      <td>1.0000000000000000</td>\n",
       "      <td>0.0000000000000000</td>\n",
       "    </tr>\n",
       "    <tr>\n",
       "      <th>log_tau_m</th>\n",
       "      <td>1.0000000000000000</td>\n",
       "      <td>0.0000000000000000</td>\n",
       "    </tr>\n",
       "    <tr>\n",
       "      <th>log_tau_m</th>\n",
       "      <td>1.0000000000000000</td>\n",
       "      <td>0.0000000000000000</td>\n",
       "    </tr>\n",
       "    <tr>\n",
       "      <th>tau_f_0</th>\n",
       "      <td>-3.0000000000000000</td>\n",
       "      <td>0.0000000000000000</td>\n",
       "    </tr>\n",
       "    <tr>\n",
       "      <th>log_tau_f</th>\n",
       "      <td>1.0000000000000000</td>\n",
       "      <td>0.0000000000000000</td>\n",
       "    </tr>\n",
       "    <tr>\n",
       "      <th>log_tau_f</th>\n",
       "      <td>1.0000000000000000</td>\n",
       "      <td>0.0000000000000000</td>\n",
       "    </tr>\n",
       "    <tr>\n",
       "      <th>log_tau_f</th>\n",
       "      <td>1.0000000000000000</td>\n",
       "      <td>0.0000000000000000</td>\n",
       "    </tr>\n",
       "    <tr>\n",
       "      <th>log_tau_f</th>\n",
       "      <td>1.0000000000000000</td>\n",
       "      <td>0.0000000000000000</td>\n",
       "    </tr>\n",
       "    <tr>\n",
       "      <th>log_tau_f</th>\n",
       "      <td>1.0000000000000000</td>\n",
       "      <td>0.0000000000000000</td>\n",
       "    </tr>\n",
       "    <tr>\n",
       "      <th>log_tau_f</th>\n",
       "      <td>1.0000000000000000</td>\n",
       "      <td>0.0000000000000000</td>\n",
       "    </tr>\n",
       "    <tr>\n",
       "      <th>log_tau_f</th>\n",
       "      <td>1.0000000000000000</td>\n",
       "      <td>0.0000000000000000</td>\n",
       "    </tr>\n",
       "    <tr>\n",
       "      <th>log_tau_f</th>\n",
       "      <td>1.0000000000000000</td>\n",
       "      <td>0.0000000000000000</td>\n",
       "    </tr>\n",
       "    <tr>\n",
       "      <th>log_sig_m</th>\n",
       "      <td>0.0000000000000000</td>\n",
       "      <td>0.0000000000000000</td>\n",
       "    </tr>\n",
       "    <tr>\n",
       "      <th>log_sig_f</th>\n",
       "      <td>0.0000000000000000</td>\n",
       "      <td>0.0000000000000000</td>\n",
       "    </tr>\n",
       "    <tr>\n",
       "      <th>L_nm_nm</th>\n",
       "      <td>0.0000000000000000</td>\n",
       "      <td>0.0000000000000000</td>\n",
       "    </tr>\n",
       "    <tr>\n",
       "      <th>L_nf_nm</th>\n",
       "      <td>0.0000000000000000</td>\n",
       "      <td>0.0000000000000000</td>\n",
       "    </tr>\n",
       "    <tr>\n",
       "      <th>L_nf_nf</th>\n",
       "      <td>0.0000000000000000</td>\n",
       "      <td>0.0000000000000000</td>\n",
       "    </tr>\n",
       "    <tr>\n",
       "      <th>LJ_nm_nm</th>\n",
       "      <td>2.3568412833328565</td>\n",
       "      <td>0.17215425748097582</td>\n",
       "    </tr>\n",
       "    <tr>\n",
       "      <th>LJ_nf_nm</th>\n",
       "      <td>1.7478863756334504</td>\n",
       "      <td>0.13313926462548545</td>\n",
       "    </tr>\n",
       "    <tr>\n",
       "      <th>LJ_nf_nf</th>\n",
       "      <td>-2.4610958344015253E-002</td>\n",
       "      <td>0.10214805020553665</td>\n",
       "    </tr>\n",
       "    <tr>\n",
       "      <th>LW</th>\n",
       "      <td>0.0000000000000000</td>\n",
       "      <td>0.0000000000000000</td>\n",
       "    </tr>\n",
       "    <tr>\n",
       "      <th>scale_m</th>\n",
       "      <td>1.0000000000000000</td>\n",
       "      <td>0.0000000000000000</td>\n",
       "    </tr>\n",
       "    <tr>\n",
       "      <th>scale_f</th>\n",
       "      <td>1.0000000000000000</td>\n",
       "      <td>0.0000000000000000</td>\n",
       "    </tr>\n",
       "    <tr>\n",
       "      <th>scale_h</th>\n",
       "      <td>1.0000000000000000</td>\n",
       "      <td>0.0000000000000000</td>\n",
       "    </tr>\n",
       "  </tbody>\n",
       "</table>\n",
       "</div>"
      ],
      "text/plain": [
       "                                       par                       se\n",
       "alpha_c                0.80204428141130868  5.9862548794264676E-002\n",
       "alpha_lm_cons          -2.5034341555867927      0.77226364438919104\n",
       "alpha_lm_age           0.51271750289720153      0.11387214132870897\n",
       "alpha_lm_hlim           1.5623289374800713      0.83772503487325922\n",
       "alpha_lm_college      -0.12022570248381177      0.44099512282070130\n",
       "alpha_lm_male          0.40914955463252128      0.65842437993706515\n",
       "alpha_lm_job           0.13854647065054759      0.62541405708911435\n",
       "alpha_lf                0.0000000000000000       0.0000000000000000\n",
       "alpha_lm_lf           -0.70992974786811736      0.10183318242852138\n",
       "beta_c                 0.56550183111321384  5.1054673574210500E-002\n",
       "beta_lf_cons          -0.34022495238569478      0.62902208006789850\n",
       "beta_lf_age            0.71236369368018226      0.13119377518816550\n",
       "beta_lf_hlim            1.4545814400069461      0.89414906164217134\n",
       "beta_lf_college       -0.37927857355875749      0.42244311440772375\n",
       "beta_lf_male            2.5089664416829525      0.72460456474019130\n",
       "beta_lf_job           -0.11473373643052935      0.46001912757481089\n",
       "beta_lm                 0.0000000000000000       0.0000000000000000\n",
       "beta_lm_lf            -0.66738614070820146  9.0623508911499215E-002\n",
       "mu                 6.1424081667061432E-002      0.83066213114546694\n",
       "wageratio               1.8979346540073105       1.7376525027764833\n",
       "log_rho_m         -5.1293294387550578E-002       0.0000000000000000\n",
       "log_rho_f         -5.1293294387550578E-002       0.0000000000000000\n",
       "tau_m_0                -3.0000000000000000       0.0000000000000000\n",
       "log_tau_m               1.0000000000000000       0.0000000000000000\n",
       "log_tau_m               1.0000000000000000       0.0000000000000000\n",
       "log_tau_m               1.0000000000000000       0.0000000000000000\n",
       "log_tau_m               1.0000000000000000       0.0000000000000000\n",
       "log_tau_m               1.0000000000000000       0.0000000000000000\n",
       "log_tau_m               1.0000000000000000       0.0000000000000000\n",
       "log_tau_m               1.0000000000000000       0.0000000000000000\n",
       "log_tau_m               1.0000000000000000       0.0000000000000000\n",
       "tau_f_0                -3.0000000000000000       0.0000000000000000\n",
       "log_tau_f               1.0000000000000000       0.0000000000000000\n",
       "log_tau_f               1.0000000000000000       0.0000000000000000\n",
       "log_tau_f               1.0000000000000000       0.0000000000000000\n",
       "log_tau_f               1.0000000000000000       0.0000000000000000\n",
       "log_tau_f               1.0000000000000000       0.0000000000000000\n",
       "log_tau_f               1.0000000000000000       0.0000000000000000\n",
       "log_tau_f               1.0000000000000000       0.0000000000000000\n",
       "log_tau_f               1.0000000000000000       0.0000000000000000\n",
       "log_sig_m               0.0000000000000000       0.0000000000000000\n",
       "log_sig_f               0.0000000000000000       0.0000000000000000\n",
       "L_nm_nm                 0.0000000000000000       0.0000000000000000\n",
       "L_nf_nm                 0.0000000000000000       0.0000000000000000\n",
       "L_nf_nf                 0.0000000000000000       0.0000000000000000\n",
       "LJ_nm_nm                2.3568412833328565      0.17215425748097582\n",
       "LJ_nf_nm                1.7478863756334504      0.13313926462548545\n",
       "LJ_nf_nf          -2.4610958344015253E-002      0.10214805020553665\n",
       "LW                      0.0000000000000000       0.0000000000000000\n",
       "scale_m                 1.0000000000000000       0.0000000000000000\n",
       "scale_f                 1.0000000000000000       0.0000000000000000\n",
       "scale_h                 1.0000000000000000       0.0000000000000000"
      ]
     },
     "execution_count": 4,
     "metadata": {},
     "output_type": "execute_result"
    }
   ],
   "source": [
    "base.params"
   ]
  },
  {
   "cell_type": "markdown",
   "metadata": {},
   "source": [
    "Here are some stats on the simulations:"
   ]
  },
  {
   "cell_type": "code",
   "execution_count": 5,
   "metadata": {},
   "outputs": [
    {
     "data": {
      "text/html": [
       "<div>\n",
       "<style scoped>\n",
       "    .dataframe tbody tr th:only-of-type {\n",
       "        vertical-align: middle;\n",
       "    }\n",
       "\n",
       "    .dataframe tbody tr th {\n",
       "        vertical-align: top;\n",
       "    }\n",
       "\n",
       "    .dataframe thead th {\n",
       "        text-align: right;\n",
       "    }\n",
       "</style>\n",
       "<table border=\"1\" class=\"dataframe\">\n",
       "  <thead>\n",
       "    <tr style=\"text-align: right;\">\n",
       "      <th></th>\n",
       "      <th>hhidpn</th>\n",
       "      <th>insim</th>\n",
       "      <th>jprob</th>\n",
       "      <th>rexpret_sim</th>\n",
       "      <th>sexpret_sim</th>\n",
       "      <th>leisure_m</th>\n",
       "      <th>leisure_f</th>\n",
       "      <th>rage</th>\n",
       "      <th>rlim</th>\n",
       "      <th>rcollege</th>\n",
       "      <th>...</th>\n",
       "      <th>rhlth62</th>\n",
       "      <th>shlth62</th>\n",
       "      <th>rliv75r</th>\n",
       "      <th>sliv75r</th>\n",
       "      <th>rwage</th>\n",
       "      <th>swage</th>\n",
       "      <th>rhours</th>\n",
       "      <th>shours</th>\n",
       "      <th>rexpret</th>\n",
       "      <th>sexpret</th>\n",
       "    </tr>\n",
       "  </thead>\n",
       "  <tbody>\n",
       "    <tr>\n",
       "      <th>count</th>\n",
       "      <td>464.000000</td>\n",
       "      <td>464.0</td>\n",
       "      <td>464.0</td>\n",
       "      <td>464.000000</td>\n",
       "      <td>464.000000</td>\n",
       "      <td>464.0</td>\n",
       "      <td>464.0</td>\n",
       "      <td>464.0</td>\n",
       "      <td>464.000000</td>\n",
       "      <td>464.000000</td>\n",
       "      <td>...</td>\n",
       "      <td>464.000000</td>\n",
       "      <td>464.000000</td>\n",
       "      <td>464.000000</td>\n",
       "      <td>464.000000</td>\n",
       "      <td>464.000000</td>\n",
       "      <td>464.000000</td>\n",
       "      <td>464.000000</td>\n",
       "      <td>464.000000</td>\n",
       "      <td>200.000000</td>\n",
       "      <td>257.000000</td>\n",
       "    </tr>\n",
       "    <tr>\n",
       "      <th>mean</th>\n",
       "      <td>303.915948</td>\n",
       "      <td>1.0</td>\n",
       "      <td>0.0</td>\n",
       "      <td>78.609914</td>\n",
       "      <td>74.282328</td>\n",
       "      <td>0.0</td>\n",
       "      <td>0.0</td>\n",
       "      <td>0.0</td>\n",
       "      <td>0.071121</td>\n",
       "      <td>0.441810</td>\n",
       "      <td>...</td>\n",
       "      <td>0.400431</td>\n",
       "      <td>0.395948</td>\n",
       "      <td>0.962090</td>\n",
       "      <td>0.912592</td>\n",
       "      <td>32.643196</td>\n",
       "      <td>25.571926</td>\n",
       "      <td>42.728448</td>\n",
       "      <td>35.831897</td>\n",
       "      <td>2019.150000</td>\n",
       "      <td>2019.669261</td>\n",
       "    </tr>\n",
       "    <tr>\n",
       "      <th>std</th>\n",
       "      <td>174.229335</td>\n",
       "      <td>0.0</td>\n",
       "      <td>0.0</td>\n",
       "      <td>1.917519</td>\n",
       "      <td>4.148438</td>\n",
       "      <td>0.0</td>\n",
       "      <td>0.0</td>\n",
       "      <td>0.0</td>\n",
       "      <td>0.257304</td>\n",
       "      <td>0.497139</td>\n",
       "      <td>...</td>\n",
       "      <td>0.277485</td>\n",
       "      <td>0.265845</td>\n",
       "      <td>0.322436</td>\n",
       "      <td>0.245628</td>\n",
       "      <td>35.602573</td>\n",
       "      <td>60.575684</td>\n",
       "      <td>10.666330</td>\n",
       "      <td>12.125414</td>\n",
       "      <td>5.325345</td>\n",
       "      <td>5.157249</td>\n",
       "    </tr>\n",
       "    <tr>\n",
       "      <th>min</th>\n",
       "      <td>1.000000</td>\n",
       "      <td>1.0</td>\n",
       "      <td>0.0</td>\n",
       "      <td>72.000000</td>\n",
       "      <td>67.000000</td>\n",
       "      <td>0.0</td>\n",
       "      <td>0.0</td>\n",
       "      <td>0.0</td>\n",
       "      <td>0.000000</td>\n",
       "      <td>0.000000</td>\n",
       "      <td>...</td>\n",
       "      <td>0.000000</td>\n",
       "      <td>0.000000</td>\n",
       "      <td>0.137999</td>\n",
       "      <td>0.062038</td>\n",
       "      <td>0.000000</td>\n",
       "      <td>0.000000</td>\n",
       "      <td>2.000000</td>\n",
       "      <td>1.000000</td>\n",
       "      <td>2010.000000</td>\n",
       "      <td>2010.000000</td>\n",
       "    </tr>\n",
       "    <tr>\n",
       "      <th>25%</th>\n",
       "      <td>155.750000</td>\n",
       "      <td>1.0</td>\n",
       "      <td>0.0</td>\n",
       "      <td>77.000000</td>\n",
       "      <td>71.000000</td>\n",
       "      <td>0.0</td>\n",
       "      <td>0.0</td>\n",
       "      <td>0.0</td>\n",
       "      <td>0.000000</td>\n",
       "      <td>0.000000</td>\n",
       "      <td>...</td>\n",
       "      <td>0.200000</td>\n",
       "      <td>0.200000</td>\n",
       "      <td>0.720568</td>\n",
       "      <td>0.744456</td>\n",
       "      <td>16.060606</td>\n",
       "      <td>12.884816</td>\n",
       "      <td>40.000000</td>\n",
       "      <td>30.000000</td>\n",
       "      <td>2015.000000</td>\n",
       "      <td>2016.000000</td>\n",
       "    </tr>\n",
       "    <tr>\n",
       "      <th>50%</th>\n",
       "      <td>300.500000</td>\n",
       "      <td>1.0</td>\n",
       "      <td>0.0</td>\n",
       "      <td>80.000000</td>\n",
       "      <td>74.000000</td>\n",
       "      <td>0.0</td>\n",
       "      <td>0.0</td>\n",
       "      <td>0.0</td>\n",
       "      <td>0.000000</td>\n",
       "      <td>0.000000</td>\n",
       "      <td>...</td>\n",
       "      <td>0.400000</td>\n",
       "      <td>0.400000</td>\n",
       "      <td>1.012476</td>\n",
       "      <td>0.968663</td>\n",
       "      <td>25.092495</td>\n",
       "      <td>17.923750</td>\n",
       "      <td>40.000000</td>\n",
       "      <td>40.000000</td>\n",
       "      <td>2019.000000</td>\n",
       "      <td>2019.000000</td>\n",
       "    </tr>\n",
       "    <tr>\n",
       "      <th>75%</th>\n",
       "      <td>454.250000</td>\n",
       "      <td>1.0</td>\n",
       "      <td>0.0</td>\n",
       "      <td>80.000000</td>\n",
       "      <td>79.000000</td>\n",
       "      <td>0.0</td>\n",
       "      <td>0.0</td>\n",
       "      <td>0.0</td>\n",
       "      <td>0.000000</td>\n",
       "      <td>1.000000</td>\n",
       "      <td>...</td>\n",
       "      <td>0.500000</td>\n",
       "      <td>0.500000</td>\n",
       "      <td>1.175370</td>\n",
       "      <td>1.065559</td>\n",
       "      <td>36.888889</td>\n",
       "      <td>27.450981</td>\n",
       "      <td>50.000000</td>\n",
       "      <td>40.000000</td>\n",
       "      <td>2022.000000</td>\n",
       "      <td>2023.000000</td>\n",
       "    </tr>\n",
       "    <tr>\n",
       "      <th>max</th>\n",
       "      <td>604.000000</td>\n",
       "      <td>1.0</td>\n",
       "      <td>0.0</td>\n",
       "      <td>80.000000</td>\n",
       "      <td>80.000000</td>\n",
       "      <td>0.0</td>\n",
       "      <td>0.0</td>\n",
       "      <td>0.0</td>\n",
       "      <td>1.000000</td>\n",
       "      <td>1.000000</td>\n",
       "      <td>...</td>\n",
       "      <td>1.000000</td>\n",
       "      <td>1.000000</td>\n",
       "      <td>1.491040</td>\n",
       "      <td>1.291550</td>\n",
       "      <td>365.000000</td>\n",
       "      <td>916.666687</td>\n",
       "      <td>80.000000</td>\n",
       "      <td>75.000000</td>\n",
       "      <td>2040.000000</td>\n",
       "      <td>2034.000000</td>\n",
       "    </tr>\n",
       "  </tbody>\n",
       "</table>\n",
       "<p>8 rows × 149 columns</p>\n",
       "</div>"
      ],
      "text/plain": [
       "           hhidpn  insim  jprob  rexpret_sim  sexpret_sim  leisure_m  \\\n",
       "count  464.000000  464.0  464.0   464.000000   464.000000      464.0   \n",
       "mean   303.915948    1.0    0.0    78.609914    74.282328        0.0   \n",
       "std    174.229335    0.0    0.0     1.917519     4.148438        0.0   \n",
       "min      1.000000    1.0    0.0    72.000000    67.000000        0.0   \n",
       "25%    155.750000    1.0    0.0    77.000000    71.000000        0.0   \n",
       "50%    300.500000    1.0    0.0    80.000000    74.000000        0.0   \n",
       "75%    454.250000    1.0    0.0    80.000000    79.000000        0.0   \n",
       "max    604.000000    1.0    0.0    80.000000    80.000000        0.0   \n",
       "\n",
       "       leisure_f   rage        rlim    rcollege  ...     rhlth62     shlth62  \\\n",
       "count      464.0  464.0  464.000000  464.000000  ...  464.000000  464.000000   \n",
       "mean         0.0    0.0    0.071121    0.441810  ...    0.400431    0.395948   \n",
       "std          0.0    0.0    0.257304    0.497139  ...    0.277485    0.265845   \n",
       "min          0.0    0.0    0.000000    0.000000  ...    0.000000    0.000000   \n",
       "25%          0.0    0.0    0.000000    0.000000  ...    0.200000    0.200000   \n",
       "50%          0.0    0.0    0.000000    0.000000  ...    0.400000    0.400000   \n",
       "75%          0.0    0.0    0.000000    1.000000  ...    0.500000    0.500000   \n",
       "max          0.0    0.0    1.000000    1.000000  ...    1.000000    1.000000   \n",
       "\n",
       "          rliv75r     sliv75r       rwage       swage      rhours      shours  \\\n",
       "count  464.000000  464.000000  464.000000  464.000000  464.000000  464.000000   \n",
       "mean     0.962090    0.912592   32.643196   25.571926   42.728448   35.831897   \n",
       "std      0.322436    0.245628   35.602573   60.575684   10.666330   12.125414   \n",
       "min      0.137999    0.062038    0.000000    0.000000    2.000000    1.000000   \n",
       "25%      0.720568    0.744456   16.060606   12.884816   40.000000   30.000000   \n",
       "50%      1.012476    0.968663   25.092495   17.923750   40.000000   40.000000   \n",
       "75%      1.175370    1.065559   36.888889   27.450981   50.000000   40.000000   \n",
       "max      1.491040    1.291550  365.000000  916.666687   80.000000   75.000000   \n",
       "\n",
       "           rexpret      sexpret  \n",
       "count   200.000000   257.000000  \n",
       "mean   2019.150000  2019.669261  \n",
       "std       5.325345     5.157249  \n",
       "min    2010.000000  2010.000000  \n",
       "25%    2015.000000  2016.000000  \n",
       "50%    2019.000000  2019.000000  \n",
       "75%    2022.000000  2023.000000  \n",
       "max    2040.000000  2034.000000  \n",
       "\n",
       "[8 rows x 149 columns]"
      ]
     },
     "execution_count": 5,
     "metadata": {},
     "output_type": "execute_result"
    }
   ],
   "source": [
    "base.sim.describe()"
   ]
  },
  {
   "cell_type": "markdown",
   "metadata": {},
   "source": [
    "As per referee request, the same model with discount rate fixed to 1."
   ]
  },
  {
   "cell_type": "code",
   "execution_count": 6,
   "metadata": {},
   "outputs": [
    {
     "name": "stdout",
     "output_type": "stream",
     "text": [
      "Default options: \n",
      "isurvival  =  T\n",
      "iload  =  F\n",
      "iestimate  =  T\n",
      "data  =  hrs_final_ref.csv\n",
      "info  =  info_ref.dat\n",
      "includeratings  =  F\n",
      "icomplement  =  T\n",
      "ihetero  =  T\n",
      "ijointhetero  =  F\n",
      "ibargaininghetero  =  F\n",
      "icorr  =  T\n",
      "iunitary  =  F\n",
      "idiscount  =  F\n",
      "ddiscount  =  0.95\n",
      "idirect  =  F\n",
      "arf  =  0.06\n",
      "drc  =  0.08\n",
      "reprate  =  0.6\n",
      "ishufheter  =  F\n",
      "ishufwages  =  F\n",
      "iblockcomp  =  F\n",
      "ifixcorr  =  F\n",
      "dfixrho  =  0.5\n",
      "inoestim  =  F\n",
      "changed item  iload  with value F  to  T  ...\n",
      "changed item  ddiscount  with value 0.95  to  1.0  ...\n"
     ]
    }
   ],
   "source": [
    "sp = models.sp\n",
    "base = sp('ref')\n",
    "base.chgoption('iload','T')\n",
    "base.chgoption('ddiscount',1.0)\n",
    "base.estimate()"
   ]
  },
  {
   "cell_type": "code",
   "execution_count": 7,
   "metadata": {},
   "outputs": [
    {
     "data": {
      "text/plain": [
       "-3865.8277912002272"
      ]
     },
     "execution_count": 7,
     "metadata": {},
     "output_type": "execute_result"
    }
   ],
   "source": [
    "base.loglike"
   ]
  },
  {
   "cell_type": "code",
   "execution_count": 8,
   "metadata": {},
   "outputs": [
    {
     "data": {
      "text/html": [
       "<div>\n",
       "<style scoped>\n",
       "    .dataframe tbody tr th:only-of-type {\n",
       "        vertical-align: middle;\n",
       "    }\n",
       "\n",
       "    .dataframe tbody tr th {\n",
       "        vertical-align: top;\n",
       "    }\n",
       "\n",
       "    .dataframe thead th {\n",
       "        text-align: right;\n",
       "    }\n",
       "</style>\n",
       "<table border=\"1\" class=\"dataframe\">\n",
       "  <thead>\n",
       "    <tr style=\"text-align: right;\">\n",
       "      <th></th>\n",
       "      <th>hhidpn</th>\n",
       "      <th>insim</th>\n",
       "      <th>jprob</th>\n",
       "      <th>rexpret_sim</th>\n",
       "      <th>sexpret_sim</th>\n",
       "      <th>leisure_m</th>\n",
       "      <th>leisure_f</th>\n",
       "      <th>rage</th>\n",
       "      <th>rlim</th>\n",
       "      <th>rcollege</th>\n",
       "      <th>...</th>\n",
       "      <th>rhlth62</th>\n",
       "      <th>shlth62</th>\n",
       "      <th>rliv75r</th>\n",
       "      <th>sliv75r</th>\n",
       "      <th>rwage</th>\n",
       "      <th>swage</th>\n",
       "      <th>rhours</th>\n",
       "      <th>shours</th>\n",
       "      <th>rexpret</th>\n",
       "      <th>sexpret</th>\n",
       "    </tr>\n",
       "  </thead>\n",
       "  <tbody>\n",
       "    <tr>\n",
       "      <th>count</th>\n",
       "      <td>464.000000</td>\n",
       "      <td>464.0</td>\n",
       "      <td>464.000000</td>\n",
       "      <td>464.000000</td>\n",
       "      <td>464.000000</td>\n",
       "      <td>464.000000</td>\n",
       "      <td>464.000000</td>\n",
       "      <td>464.0</td>\n",
       "      <td>464.000000</td>\n",
       "      <td>464.000000</td>\n",
       "      <td>...</td>\n",
       "      <td>464.000000</td>\n",
       "      <td>464.000000</td>\n",
       "      <td>464.000000</td>\n",
       "      <td>464.000000</td>\n",
       "      <td>464.000000</td>\n",
       "      <td>464.000000</td>\n",
       "      <td>464.000000</td>\n",
       "      <td>464.000000</td>\n",
       "      <td>200.000000</td>\n",
       "      <td>257.000000</td>\n",
       "    </tr>\n",
       "    <tr>\n",
       "      <th>mean</th>\n",
       "      <td>303.915948</td>\n",
       "      <td>1.0</td>\n",
       "      <td>0.092672</td>\n",
       "      <td>65.933190</td>\n",
       "      <td>63.437500</td>\n",
       "      <td>4.301222</td>\n",
       "      <td>2.911683</td>\n",
       "      <td>0.0</td>\n",
       "      <td>0.071121</td>\n",
       "      <td>0.441810</td>\n",
       "      <td>...</td>\n",
       "      <td>0.400431</td>\n",
       "      <td>0.395948</td>\n",
       "      <td>0.962090</td>\n",
       "      <td>0.912592</td>\n",
       "      <td>32.643196</td>\n",
       "      <td>25.571926</td>\n",
       "      <td>42.728448</td>\n",
       "      <td>35.831897</td>\n",
       "      <td>2019.150000</td>\n",
       "      <td>2019.669261</td>\n",
       "    </tr>\n",
       "    <tr>\n",
       "      <th>std</th>\n",
       "      <td>174.229335</td>\n",
       "      <td>0.0</td>\n",
       "      <td>0.290286</td>\n",
       "      <td>3.658455</td>\n",
       "      <td>2.894169</td>\n",
       "      <td>1.908210</td>\n",
       "      <td>1.468497</td>\n",
       "      <td>0.0</td>\n",
       "      <td>0.257304</td>\n",
       "      <td>0.497139</td>\n",
       "      <td>...</td>\n",
       "      <td>0.277485</td>\n",
       "      <td>0.265845</td>\n",
       "      <td>0.322436</td>\n",
       "      <td>0.245628</td>\n",
       "      <td>35.602573</td>\n",
       "      <td>60.575684</td>\n",
       "      <td>10.666330</td>\n",
       "      <td>12.125414</td>\n",
       "      <td>5.325345</td>\n",
       "      <td>5.157249</td>\n",
       "    </tr>\n",
       "    <tr>\n",
       "      <th>min</th>\n",
       "      <td>1.000000</td>\n",
       "      <td>1.0</td>\n",
       "      <td>0.000000</td>\n",
       "      <td>57.000000</td>\n",
       "      <td>55.000000</td>\n",
       "      <td>0.773564</td>\n",
       "      <td>0.133887</td>\n",
       "      <td>0.0</td>\n",
       "      <td>0.000000</td>\n",
       "      <td>0.000000</td>\n",
       "      <td>...</td>\n",
       "      <td>0.000000</td>\n",
       "      <td>0.000000</td>\n",
       "      <td>0.137999</td>\n",
       "      <td>0.062038</td>\n",
       "      <td>0.000000</td>\n",
       "      <td>0.000000</td>\n",
       "      <td>2.000000</td>\n",
       "      <td>1.000000</td>\n",
       "      <td>2010.000000</td>\n",
       "      <td>2010.000000</td>\n",
       "    </tr>\n",
       "    <tr>\n",
       "      <th>25%</th>\n",
       "      <td>155.750000</td>\n",
       "      <td>1.0</td>\n",
       "      <td>0.000000</td>\n",
       "      <td>62.000000</td>\n",
       "      <td>62.000000</td>\n",
       "      <td>2.702257</td>\n",
       "      <td>1.693070</td>\n",
       "      <td>0.0</td>\n",
       "      <td>0.000000</td>\n",
       "      <td>0.000000</td>\n",
       "      <td>...</td>\n",
       "      <td>0.200000</td>\n",
       "      <td>0.200000</td>\n",
       "      <td>0.720568</td>\n",
       "      <td>0.744456</td>\n",
       "      <td>16.060606</td>\n",
       "      <td>12.884816</td>\n",
       "      <td>40.000000</td>\n",
       "      <td>30.000000</td>\n",
       "      <td>2015.000000</td>\n",
       "      <td>2016.000000</td>\n",
       "    </tr>\n",
       "    <tr>\n",
       "      <th>50%</th>\n",
       "      <td>300.500000</td>\n",
       "      <td>1.0</td>\n",
       "      <td>0.000000</td>\n",
       "      <td>66.500000</td>\n",
       "      <td>63.000000</td>\n",
       "      <td>4.196335</td>\n",
       "      <td>2.840480</td>\n",
       "      <td>0.0</td>\n",
       "      <td>0.000000</td>\n",
       "      <td>0.000000</td>\n",
       "      <td>...</td>\n",
       "      <td>0.400000</td>\n",
       "      <td>0.400000</td>\n",
       "      <td>1.012476</td>\n",
       "      <td>0.968663</td>\n",
       "      <td>25.092495</td>\n",
       "      <td>17.923750</td>\n",
       "      <td>40.000000</td>\n",
       "      <td>40.000000</td>\n",
       "      <td>2019.000000</td>\n",
       "      <td>2019.000000</td>\n",
       "    </tr>\n",
       "    <tr>\n",
       "      <th>75%</th>\n",
       "      <td>454.250000</td>\n",
       "      <td>1.0</td>\n",
       "      <td>0.000000</td>\n",
       "      <td>69.000000</td>\n",
       "      <td>65.000000</td>\n",
       "      <td>6.055535</td>\n",
       "      <td>4.279154</td>\n",
       "      <td>0.0</td>\n",
       "      <td>0.000000</td>\n",
       "      <td>1.000000</td>\n",
       "      <td>...</td>\n",
       "      <td>0.500000</td>\n",
       "      <td>0.500000</td>\n",
       "      <td>1.175370</td>\n",
       "      <td>1.065559</td>\n",
       "      <td>36.888889</td>\n",
       "      <td>27.450981</td>\n",
       "      <td>50.000000</td>\n",
       "      <td>40.000000</td>\n",
       "      <td>2022.000000</td>\n",
       "      <td>2023.000000</td>\n",
       "    </tr>\n",
       "    <tr>\n",
       "      <th>max</th>\n",
       "      <td>604.000000</td>\n",
       "      <td>1.0</td>\n",
       "      <td>1.000000</td>\n",
       "      <td>80.000000</td>\n",
       "      <td>80.000000</td>\n",
       "      <td>7.829217</td>\n",
       "      <td>5.655897</td>\n",
       "      <td>0.0</td>\n",
       "      <td>1.000000</td>\n",
       "      <td>1.000000</td>\n",
       "      <td>...</td>\n",
       "      <td>1.000000</td>\n",
       "      <td>1.000000</td>\n",
       "      <td>1.491040</td>\n",
       "      <td>1.291550</td>\n",
       "      <td>365.000000</td>\n",
       "      <td>916.666687</td>\n",
       "      <td>80.000000</td>\n",
       "      <td>75.000000</td>\n",
       "      <td>2040.000000</td>\n",
       "      <td>2034.000000</td>\n",
       "    </tr>\n",
       "  </tbody>\n",
       "</table>\n",
       "<p>8 rows × 149 columns</p>\n",
       "</div>"
      ],
      "text/plain": [
       "           hhidpn  insim       jprob  rexpret_sim  sexpret_sim   leisure_m  \\\n",
       "count  464.000000  464.0  464.000000   464.000000   464.000000  464.000000   \n",
       "mean   303.915948    1.0    0.092672    65.933190    63.437500    4.301222   \n",
       "std    174.229335    0.0    0.290286     3.658455     2.894169    1.908210   \n",
       "min      1.000000    1.0    0.000000    57.000000    55.000000    0.773564   \n",
       "25%    155.750000    1.0    0.000000    62.000000    62.000000    2.702257   \n",
       "50%    300.500000    1.0    0.000000    66.500000    63.000000    4.196335   \n",
       "75%    454.250000    1.0    0.000000    69.000000    65.000000    6.055535   \n",
       "max    604.000000    1.0    1.000000    80.000000    80.000000    7.829217   \n",
       "\n",
       "        leisure_f   rage        rlim    rcollege  ...     rhlth62     shlth62  \\\n",
       "count  464.000000  464.0  464.000000  464.000000  ...  464.000000  464.000000   \n",
       "mean     2.911683    0.0    0.071121    0.441810  ...    0.400431    0.395948   \n",
       "std      1.468497    0.0    0.257304    0.497139  ...    0.277485    0.265845   \n",
       "min      0.133887    0.0    0.000000    0.000000  ...    0.000000    0.000000   \n",
       "25%      1.693070    0.0    0.000000    0.000000  ...    0.200000    0.200000   \n",
       "50%      2.840480    0.0    0.000000    0.000000  ...    0.400000    0.400000   \n",
       "75%      4.279154    0.0    0.000000    1.000000  ...    0.500000    0.500000   \n",
       "max      5.655897    0.0    1.000000    1.000000  ...    1.000000    1.000000   \n",
       "\n",
       "          rliv75r     sliv75r       rwage       swage      rhours      shours  \\\n",
       "count  464.000000  464.000000  464.000000  464.000000  464.000000  464.000000   \n",
       "mean     0.962090    0.912592   32.643196   25.571926   42.728448   35.831897   \n",
       "std      0.322436    0.245628   35.602573   60.575684   10.666330   12.125414   \n",
       "min      0.137999    0.062038    0.000000    0.000000    2.000000    1.000000   \n",
       "25%      0.720568    0.744456   16.060606   12.884816   40.000000   30.000000   \n",
       "50%      1.012476    0.968663   25.092495   17.923750   40.000000   40.000000   \n",
       "75%      1.175370    1.065559   36.888889   27.450981   50.000000   40.000000   \n",
       "max      1.491040    1.291550  365.000000  916.666687   80.000000   75.000000   \n",
       "\n",
       "           rexpret      sexpret  \n",
       "count   200.000000   257.000000  \n",
       "mean   2019.150000  2019.669261  \n",
       "std       5.325345     5.157249  \n",
       "min    2010.000000  2010.000000  \n",
       "25%    2015.000000  2016.000000  \n",
       "50%    2019.000000  2019.000000  \n",
       "75%    2022.000000  2023.000000  \n",
       "max    2040.000000  2034.000000  \n",
       "\n",
       "[8 rows x 149 columns]"
      ]
     },
     "execution_count": 8,
     "metadata": {},
     "output_type": "execute_result"
    }
   ],
   "source": [
    "base.sim.describe()"
   ]
  },
  {
   "cell_type": "markdown",
   "metadata": {},
   "source": [
    "We will now create a model that estimates discount rates"
   ]
  },
  {
   "cell_type": "code",
   "execution_count": 9,
   "metadata": {},
   "outputs": [
    {
     "name": "stdout",
     "output_type": "stream",
     "text": [
      "Default options: \n",
      "isurvival  =  T\n",
      "iload  =  F\n",
      "iestimate  =  T\n",
      "data  =  hrs_final_ref.csv\n",
      "info  =  info_ref.dat\n",
      "includeratings  =  F\n",
      "icomplement  =  T\n",
      "ihetero  =  T\n",
      "ijointhetero  =  F\n",
      "ibargaininghetero  =  F\n",
      "icorr  =  T\n",
      "iunitary  =  F\n",
      "idiscount  =  F\n",
      "ddiscount  =  0.95\n",
      "idirect  =  F\n",
      "arf  =  0.06\n",
      "drc  =  0.08\n",
      "reprate  =  0.6\n",
      "ishufheter  =  F\n",
      "ishufwages  =  F\n",
      "iblockcomp  =  F\n",
      "ifixcorr  =  F\n",
      "dfixrho  =  0.5\n",
      "inoestim  =  F\n"
     ]
    }
   ],
   "source": [
    "disc = sp('discount')"
   ]
  },
  {
   "cell_type": "markdown",
   "metadata": {},
   "source": [
    "We need to flag that we want to estimate discount rates"
   ]
  },
  {
   "cell_type": "code",
   "execution_count": 10,
   "metadata": {},
   "outputs": [
    {
     "name": "stdout",
     "output_type": "stream",
     "text": [
      "changed item  idiscount  with value F  to  T  ...\n",
      "changed item  iload  with value F  to  T  ...\n"
     ]
    }
   ],
   "source": [
    "disc.chgoption('idiscount','T')\n",
    "disc.chgoption('iload','T')"
   ]
  },
  {
   "cell_type": "markdown",
   "metadata": {},
   "source": [
    "We now estimate parameters"
   ]
  },
  {
   "cell_type": "code",
   "execution_count": 11,
   "metadata": {},
   "outputs": [
    {
     "name": "stderr",
     "output_type": "stream",
     "text": [
      "ERROR:root:Internal Python error in the inspect module.\n",
      "Below is the traceback from this internal error.\n",
      "\n"
     ]
    },
    {
     "name": "stdout",
     "output_type": "stream",
     "text": [
      "Traceback (most recent call last):\n",
      "  File \"/anaconda3/lib/python3.6/site-packages/IPython/core/interactiveshell.py\", line 3265, in run_code\n",
      "    exec(code_obj, self.user_global_ns, self.user_ns)\n",
      "  File \"<ipython-input-11-218bd83dff8c>\", line 1, in <module>\n",
      "    disc.estimate()\n",
      "  File \"/Users/lubis/Documents/github/joint/runtime/tools/models.py\", line 54, in estimate\n",
      "    self.buff = subprocess.check_output(['./runestimation',self.scenario])\n",
      "  File \"/anaconda3/lib/python3.6/subprocess.py\", line 356, in check_output\n",
      "    **kwargs).stdout\n",
      "  File \"/anaconda3/lib/python3.6/subprocess.py\", line 425, in run\n",
      "    stdout, stderr = process.communicate(input, timeout=timeout)\n",
      "  File \"/anaconda3/lib/python3.6/subprocess.py\", line 850, in communicate\n",
      "    stdout = self.stdout.read()\n",
      "KeyboardInterrupt\n",
      "\n",
      "During handling of the above exception, another exception occurred:\n",
      "\n",
      "Traceback (most recent call last):\n",
      "  File \"/anaconda3/lib/python3.6/site-packages/IPython/core/interactiveshell.py\", line 2016, in showtraceback\n",
      "    stb = value._render_traceback_()\n",
      "AttributeError: 'KeyboardInterrupt' object has no attribute '_render_traceback_'\n",
      "\n",
      "During handling of the above exception, another exception occurred:\n",
      "\n",
      "Traceback (most recent call last):\n",
      "  File \"/anaconda3/lib/python3.6/site-packages/IPython/core/ultratb.py\", line 1095, in get_records\n",
      "    return _fixed_getinnerframes(etb, number_of_lines_of_context, tb_offset)\n",
      "  File \"/anaconda3/lib/python3.6/site-packages/IPython/core/ultratb.py\", line 313, in wrapped\n",
      "    return f(*args, **kwargs)\n",
      "  File \"/anaconda3/lib/python3.6/site-packages/IPython/core/ultratb.py\", line 347, in _fixed_getinnerframes\n",
      "    records = fix_frame_records_filenames(inspect.getinnerframes(etb, context))\n",
      "  File \"/anaconda3/lib/python3.6/inspect.py\", line 1490, in getinnerframes\n",
      "    frameinfo = (tb.tb_frame,) + getframeinfo(tb, context)\n",
      "  File \"/anaconda3/lib/python3.6/inspect.py\", line 1448, in getframeinfo\n",
      "    filename = getsourcefile(frame) or getfile(frame)\n",
      "  File \"/anaconda3/lib/python3.6/inspect.py\", line 696, in getsourcefile\n",
      "    if getattr(getmodule(object, filename), '__loader__', None) is not None:\n",
      "  File \"/anaconda3/lib/python3.6/inspect.py\", line 733, in getmodule\n",
      "    if ismodule(module) and hasattr(module, '__file__'):\n",
      "  File \"/anaconda3/lib/python3.6/site-packages/py/_vendored_packages/apipkg.py\", line 195, in __getattribute__\n",
      "    return getattr(getmod(), name)\n",
      "  File \"/anaconda3/lib/python3.6/site-packages/py/_vendored_packages/apipkg.py\", line 179, in getmod\n",
      "    x = importobj(modpath, None)\n",
      "  File \"/anaconda3/lib/python3.6/site-packages/py/_vendored_packages/apipkg.py\", line 69, in importobj\n",
      "    module = __import__(modpath, None, None, ['__doc__'])\n",
      "  File \"/anaconda3/lib/python3.6/site-packages/pytest.py\", line 10, in <module>\n",
      "    from _pytest.fixtures import fixture, yield_fixture\n",
      "  File \"/anaconda3/lib/python3.6/site-packages/_pytest/fixtures.py\", line 10, in <module>\n",
      "    from more_itertools import flatten\n",
      "  File \"/anaconda3/lib/python3.6/site-packages/more_itertools/__init__.py\", line 1, in <module>\n",
      "    from more_itertools.more import *  # noqa\n",
      "  File \"/anaconda3/lib/python3.6/site-packages/more_itertools/more.py\", line 1788, in <module>\n",
      "    class SequenceView(Sequence):\n",
      "  File \"/anaconda3/lib/python3.6/site-packages/more_itertools/more.py\", line 1817, in SequenceView\n",
      "    def __init__(self, target):\n",
      "KeyboardInterrupt\n"
     ]
    },
    {
     "ename": "KeyboardInterrupt",
     "evalue": "",
     "output_type": "error",
     "traceback": [
      "\u001b[0;31m---------------------------------------------------------------------------\u001b[0m"
     ]
    }
   ],
   "source": [
    "disc.estimate()\n",
    "disc.loglike"
   ]
  },
  {
   "cell_type": "code",
   "execution_count": null,
   "metadata": {},
   "outputs": [],
   "source": [
    "disc.params"
   ]
  },
  {
   "cell_type": "markdown",
   "metadata": {},
   "source": [
    "Some stats again on types"
   ]
  },
  {
   "cell_type": "code",
   "execution_count": null,
   "metadata": {},
   "outputs": [],
   "source": [
    "disc.sim.describe()"
   ]
  },
  {
   "cell_type": "markdown",
   "metadata": {},
   "source": [
    "## Robustness of Specification"
   ]
  },
  {
   "cell_type": "markdown",
   "metadata": {},
   "source": [
    "We will collect a few loglikelihoods to do LR tests (Table in main text). We will also present some results in the appendix for these alternative models.  "
   ]
  },
  {
   "cell_type": "markdown",
   "metadata": {},
   "source": [
    "### Model with uncorrelated types"
   ]
  },
  {
   "cell_type": "code",
   "execution_count": null,
   "metadata": {},
   "outputs": [],
   "source": [
    "uncor = sp('nocorr')"
   ]
  },
  {
   "cell_type": "code",
   "execution_count": null,
   "metadata": {},
   "outputs": [],
   "source": [
    "uncor.chgoption('icorr','F')\n",
    "uncor.chgoption('idiscount','T')\n",
    "uncor.chgoption('iload','T')"
   ]
  },
  {
   "cell_type": "code",
   "execution_count": null,
   "metadata": {},
   "outputs": [],
   "source": [
    "uncor.estimate()\n",
    "uncor.loglike"
   ]
  },
  {
   "cell_type": "code",
   "execution_count": null,
   "metadata": {},
   "outputs": [],
   "source": [
    "uncor.params"
   ]
  },
  {
   "cell_type": "code",
   "execution_count": null,
   "metadata": {},
   "outputs": [],
   "source": [
    "uncor.sim.describe()"
   ]
  },
  {
   "cell_type": "markdown",
   "metadata": {},
   "source": [
    "### Model without Survival Risk"
   ]
  },
  {
   "cell_type": "code",
   "execution_count": null,
   "metadata": {},
   "outputs": [],
   "source": [
    "nosurv = sp('nosurv')"
   ]
  },
  {
   "cell_type": "code",
   "execution_count": null,
   "metadata": {},
   "outputs": [],
   "source": [
    "nosurv.chgoption('isurvival','F')\n",
    "nosurv.chgoption('idiscount','T')\n",
    "nosurv.chgoption('iload','T')"
   ]
  },
  {
   "cell_type": "code",
   "execution_count": null,
   "metadata": {},
   "outputs": [],
   "source": [
    "nosurv.estimate()\n",
    "nosurv.loglike"
   ]
  },
  {
   "cell_type": "code",
   "execution_count": null,
   "metadata": {},
   "outputs": [],
   "source": [
    "nosurv.params"
   ]
  },
  {
   "cell_type": "code",
   "execution_count": null,
   "metadata": {},
   "outputs": [],
   "source": [
    "nosurv.sim.describe()"
   ]
  },
  {
   "cell_type": "markdown",
   "metadata": {},
   "source": [
    "### Model without Complementarity"
   ]
  },
  {
   "cell_type": "code",
   "execution_count": null,
   "metadata": {},
   "outputs": [],
   "source": [
    "nocomp = sp('nocomp')"
   ]
  },
  {
   "cell_type": "code",
   "execution_count": null,
   "metadata": {},
   "outputs": [],
   "source": [
    "nocomp.chgoption('idiscount','T')\n",
    "nocomp.chgoption('icomplement','F')\n",
    "nocomp.chgoption('iload','T')"
   ]
  },
  {
   "cell_type": "code",
   "execution_count": null,
   "metadata": {},
   "outputs": [],
   "source": [
    "nocomp.estimate()\n"
   ]
  },
  {
   "cell_type": "code",
   "execution_count": null,
   "metadata": {},
   "outputs": [],
   "source": [
    "nocomp.loglike"
   ]
  },
  {
   "cell_type": "code",
   "execution_count": null,
   "metadata": {},
   "outputs": [],
   "source": [
    "nocomp.params"
   ]
  },
  {
   "cell_type": "code",
   "execution_count": null,
   "metadata": {},
   "outputs": [],
   "source": [
    "nocomp.sim.describe()"
   ]
  },
  {
   "cell_type": "markdown",
   "metadata": {},
   "source": [
    "### Unitary Model"
   ]
  },
  {
   "cell_type": "code",
   "execution_count": null,
   "metadata": {},
   "outputs": [],
   "source": [
    "unitary = sp('unitary')\n",
    "unitary.chgoption('iunitary','T')\n",
    "unitary.chgoption('idiscount','T')\n",
    "unitary.chgoption('iload','T')"
   ]
  },
  {
   "cell_type": "code",
   "execution_count": null,
   "metadata": {},
   "outputs": [],
   "source": [
    "unitary.estimate()\n",
    "unitary.loglike"
   ]
  },
  {
   "cell_type": "code",
   "execution_count": null,
   "metadata": {},
   "outputs": [],
   "source": [
    "unitary.params"
   ]
  },
  {
   "cell_type": "code",
   "execution_count": null,
   "metadata": {},
   "outputs": [],
   "source": [
    "unitary.sim.describe()"
   ]
  },
  {
   "cell_type": "markdown",
   "metadata": {},
   "source": [
    "### Table with LR Tests"
   ]
  },
  {
   "cell_type": "code",
   "execution_count": null,
   "metadata": {},
   "outputs": [],
   "source": [
    "import pandas as pd\n",
    "data = [disc.loglike,base.loglike,uncor.loglike,nocomp.loglike,unitary.loglike]\n",
    "lr = [0]\n",
    "for i in range(1,len(data)):\n",
    "    lr.append(-2.0*(data[i]-data[0]))\n",
    "names = ['Baseline','Fixed Discount Rates (2)','No Correlation UH (1)','No Complementarity (2)','Unitary (1)']\n",
    "table = pd.DataFrame(data=list(zip(data,lr)),index=names,columns=['Loglikehood Value','LR Statistic'])\n",
    "def f(x):\n",
    "    return '{:1.3f}'.format(x)\n",
    "with open('../tex/tables/lrtests.tex','w') as tf:\n",
    "    tf.write(table.to_latex(formatters=[f,f]))\n",
    "table    "
   ]
  },
  {
   "cell_type": "markdown",
   "metadata": {},
   "source": [
    "Critical values at 5% for these tests:"
   ]
  },
  {
   "cell_type": "code",
   "execution_count": null,
   "metadata": {},
   "outputs": [],
   "source": [
    "from scipy.stats import chi2\n",
    "[chi2(1).ppf(0.95),chi2(2).ppf(0.95)]"
   ]
  },
  {
   "cell_type": "markdown",
   "metadata": {},
   "source": [
    "## Correlation with Expected Retirement in HRS"
   ]
  },
  {
   "cell_type": "code",
   "execution_count": null,
   "metadata": {},
   "outputs": [],
   "source": [
    "disc.sim['rexpret'] = disc.sim['rage_mod'] + (disc.sim['rexpret']-2011)\n",
    "disc.sim['sexpret'] = disc.sim['sage_mod'] + (disc.sim['sexpret']-2011)"
   ]
  },
  {
   "cell_type": "code",
   "execution_count": null,
   "metadata": {},
   "outputs": [],
   "source": [
    "\n",
    "disc.sim[['rexpret','sexpret']].describe()\n",
    "  "
   ]
  },
  {
   "cell_type": "markdown",
   "metadata": {},
   "source": [
    "Correlations with simulated expected retirement age"
   ]
  },
  {
   "cell_type": "code",
   "execution_count": null,
   "metadata": {},
   "outputs": [],
   "source": [
    "\n",
    "print('Males   : ',disc.sim[['rexpret','rexpret_sim']].corr())\n",
    "print('Females : ',disc.sim[['sexpret','sexpret_sim']].corr())\n",
    "    "
   ]
  },
  {
   "cell_type": "markdown",
   "metadata": {},
   "source": [
    "We will do a figure to check correlation"
   ]
  },
  {
   "cell_type": "code",
   "execution_count": null,
   "metadata": {},
   "outputs": [],
   "source": [
    "from scipy.stats import linregress\n",
    "data = disc.sim[['rexpret_sim','rexpret']].dropna()\n",
    "x = data['rexpret_sim']\n",
    "y = data['rexpret']\n",
    "slope, intercept, r_value, p_value, std_err = linregress(x,y)\n",
    "line = slope*x+intercept\n",
    "plt.figure()\n",
    "plt.scatter(x,y,label='')\n",
    "plt.plot(x, line, 'r', label='y={:.2f}x+{:.2f}: $R^2$={:.2f}'.format(slope,intercept,r_value))\n",
    "plt.xlabel('expected retirement age (Model)')\n",
    "plt.ylabel('expected retirement age (HRS)')\n",
    "plt.legend(loc=4)\n",
    "plt.savefig('../tex/figures/match_males.eps')\n",
    "plt.show()"
   ]
  },
  {
   "cell_type": "code",
   "execution_count": null,
   "metadata": {},
   "outputs": [],
   "source": [
    "from scipy.stats import linregress\n",
    "data = disc.sim[['sexpret_sim','sexpret']].dropna()\n",
    "x = data['sexpret_sim']\n",
    "y = data['sexpret']\n",
    "slope, intercept, r_value, p_value, std_err = linregress(x,y)\n",
    "line = slope*x+intercept\n",
    "plt.figure()\n",
    "plt.scatter(x,y,label='')\n",
    "plt.plot(x, line, 'r', label='y={:.2f}x+{:.2f}: $R^2$={:.2f}'.format(slope,intercept,r_value))\n",
    "plt.xlabel('expected retirement age (Model)')\n",
    "plt.ylabel('expected retirement age (HRS)')\n",
    "plt.legend(loc=4)\n",
    "plt.savefig('../tex/figures/match_females.eps')\n",
    "plt.show()"
   ]
  },
  {
   "cell_type": "markdown",
   "metadata": {},
   "source": [
    "## Distribution of Retirement Ages"
   ]
  },
  {
   "cell_type": "code",
   "execution_count": null,
   "metadata": {},
   "outputs": [],
   "source": [
    "%matplotlib inline\n",
    "from scipy.stats import gaussian_kde\n",
    "from numba import jit\n",
    "import numpy as np\n",
    "x = disc.sim['rexpret_sim'].tolist()\n",
    "y = disc.sim['sexpret_sim'].tolist()\n",
    "print(disc.sim[['rexpret_sim','sexpret_sim']].describe())\n",
    "print('correlation : ', disc.sim[['rexpret_sim','sexpret_sim']].corr())\n",
    "X, Y = np.mgrid[60:69:10j, 60:69:10j]\n",
    "positions = np.vstack([X.ravel(), Y.ravel()])\n",
    "values = np.vstack([x, y])\n",
    "kernel = gaussian_kde(values)\n",
    "Z = np.reshape(kernel(positions).T, X.shape)\n",
    "plt.figure()\n",
    "plt.contour(X,Y,Z)\n",
    "plt.xlabel('Expected Retirement Age Husband')\n",
    "plt.ylabel('Expected Retirement Age Wife')\n",
    "plt.savefig('../tex/figures/retages.eps')"
   ]
  },
  {
   "cell_type": "code",
   "execution_count": null,
   "metadata": {},
   "outputs": [],
   "source": [
    "disc.sim['distance_m'] = disc.sim['rexpret_sim'] - disc.sim['rage_mod']\n",
    "disc.sim['distance_f'] = disc.sim['sexpret_sim'] - disc.sim['sage_mod']\n",
    "print(disc.sim[['distance_m','distance_f']].describe())\n",
    "print('correlation: ', disc.sim[['distance_m','distance_f']].corr())\n",
    "\n",
    "%matplotlib inline\n",
    "from scipy.stats import gaussian_kde\n",
    "from numba import jit\n",
    "import numpy as np\n",
    "x = disc.sim['distance_m'].tolist()\n",
    "y = disc.sim['distance_f'].tolist()\n",
    "\n",
    "X, Y = np.mgrid[0:20:20j, 0:20:20j]\n",
    "positions = np.vstack([X.ravel(), Y.ravel()])\n",
    "values = np.vstack([x, y])\n",
    "kernel = gaussian_kde(values)\n",
    "Z = np.reshape(kernel(positions).T, X.shape)\n",
    "plt.figure()\n",
    "plt.contour(X,Y,Z)\n",
    "xx = np.linspace(0,20,20)\n",
    "plt.fill_between(xx, xx-1, xx+1, color='grey', alpha='0.1')\n",
    "plt.xlim([0,20])\n",
    "plt.ylim([0,20])\n",
    "plt.xlabel('Expected Distance (yrs) to Retirement Husband')\n",
    "plt.ylabel('Expected Distance (yrs) to Retirement Wife')\n",
    "plt.savefig('../tex/figures/distances.eps',dpi=600)"
   ]
  },
  {
   "cell_type": "markdown",
   "metadata": {},
   "source": [
    "## Joint Retirement"
   ]
  },
  {
   "cell_type": "markdown",
   "metadata": {},
   "source": [
    "We will now re-rerun the discount model (baseline) with three scenarios: reshuffling heterogeneity, reshuffling wages and shutting down complementarity. "
   ]
  },
  {
   "cell_type": "code",
   "execution_count": null,
   "metadata": {},
   "outputs": [],
   "source": [
    "wages = sp('discount')\n",
    "wages.chgoption('iload','T')\n",
    "wages.chgoption('idiscount','T')\n",
    "wages.chgoption('ishufwages','T')\n",
    "wages.estimate()"
   ]
  },
  {
   "cell_type": "code",
   "execution_count": null,
   "metadata": {},
   "outputs": [],
   "source": [
    "heter = sp('discount')\n",
    "heter.chgoption('iload','T')\n",
    "heter.chgoption('idiscount','T')\n",
    "heter.chgoption('ishufheter','T')\n",
    "heter.estimate()"
   ]
  },
  {
   "cell_type": "code",
   "execution_count": null,
   "metadata": {},
   "outputs": [],
   "source": [
    "comp = sp('discount')\n",
    "comp.chgoption('iload','T')\n",
    "comp.chgoption('idiscount','T')\n",
    "comp.chgoption('iblockcomp','T')\n",
    "comp.estimate()"
   ]
  },
  {
   "cell_type": "code",
   "execution_count": null,
   "metadata": {},
   "outputs": [],
   "source": [
    "specs = [disc,wages,heter,comp]\n",
    "names =  ['Baseline','Shuffling Wages','Shuffling UH','No Complementarity']\n",
    "data = []\n",
    "plt.figure()\n",
    "for i,s in enumerate(specs):\n",
    "    s.sim['distance_m'] = s.sim['rexpret_sim'] - s.sim['rage_mod']\n",
    "    s.sim['distance_f'] = s.sim['sexpret_sim'] - s.sim['sage_mod']\n",
    "    s.sim['joint'] = np.abs(s.sim['distance_m'] - s.sim['distance_f'])<=1.0\n",
    "    s.sim['joint_yrs'] = s.sim['distance_m'] - s.sim['distance_f']\n",
    "    x = s.sim['joint_yrs'].values\n",
    "    x.sort()\n",
    "    ff = gaussian_kde(x)\n",
    "    plt.plot(x,ff(x),label=names[i])\n",
    "    data.append([s.sim['rexpret_sim'].mean(),s.sim['sexpret_sim'].mean(),s.sim['joint'].mean()])\n",
    "table = pd.DataFrame(data=data,index=names,columns=['Ret Age Males','Ret Age Females','Fraction Joint'])  \n",
    "def f(x):\n",
    "    return '{:1.3f}'.format(x)\n",
    "with open('../tex/tables/joint.tex','w') as tf:\n",
    "    tf.write(table.to_latex(formatters=[f,f,f]))\n",
    "plt.legend(loc=2)\n",
    "plt.xlabel('difference in distance to retirement')\n",
    "plt.ylabel('density')\n",
    "plt.xlim([-15,15])\n",
    "plt.savefig('../tex/figures/compare_distances.eps')\n",
    "plt.show()\n",
    "table"
   ]
  },
  {
   "cell_type": "code",
   "execution_count": null,
   "metadata": {},
   "outputs": [],
   "source": [
    "%matplotlib inline\n",
    "from scipy.stats import gaussian_kde\n",
    "from numba import jit\n",
    "import numpy as np\n",
    "x = comp.sim['distance_m'].tolist()\n",
    "y = comp.sim['distance_f'].tolist()\n",
    "\n",
    "X, Y = np.mgrid[0:20:20j, 0:20:20j]\n",
    "positions = np.vstack([X.ravel(), Y.ravel()])\n",
    "values = np.vstack([x, y])\n",
    "kernel = gaussian_kde(values)\n",
    "Z = np.reshape(kernel(positions).T, X.shape)\n",
    "plt.figure()\n",
    "plt.contour(X,Y,Z)\n",
    "xx = np.linspace(0,20,20)\n",
    "plt.fill_between(xx, xx-1, xx+1, color='grey', alpha='0.1')\n",
    "plt.xlim([0,20])\n",
    "plt.ylim([0,20])\n",
    "plt.xlabel('Expected Distance (yrs) to Retirement Husband')\n",
    "plt.ylabel('Expected Distance (yrs) to Retirement Wife')\n",
    "plt.savefig('../tex/figures/distances_nocomp.eps',dpi=600)"
   ]
  },
  {
   "cell_type": "code",
   "execution_count": null,
   "metadata": {},
   "outputs": [],
   "source": [
    "disc.sim['agediff'] = disc.sim['rage_mod']- disc.sim['sage_mod']\n",
    "print(comp.sim[['distance_m','distance_f']].describe())\n",
    "print(disc.sim[['distance_m','distance_f']].describe())\n",
    "\n"
   ]
  },
  {
   "cell_type": "markdown",
   "metadata": {},
   "source": [
    "# Policy Simulation"
   ]
  },
  {
   "cell_type": "markdown",
   "metadata": {},
   "source": [
    "Finally, we have to check what happens when we do policy simulations. We will do policy simulations over two parameters, the ARF (actuarial reduction factor) and the generosity of the pension (replacement rate). "
   ]
  },
  {
   "cell_type": "code",
   "execution_count": null,
   "metadata": {
    "scrolled": false
   },
   "outputs": [],
   "source": [
    "arf = [0,0.09]\n",
    "drc = [0,0.11]\n",
    "rep = [0.4,0.8]\n",
    "factors = zip(arf,drc)\n",
    "experiments = [disc]\n",
    "for a,d in factors:\n",
    "    this = sp('discount')\n",
    "    this.chgoption('iload','T')\n",
    "    this.chgoption('idiscount','T')\n",
    "    this.chgoption('arf',a)\n",
    "    this.chgoption('drc',d)\n",
    "    this.estimate()\n",
    "    this.sim['distance_m'] = this.sim['rexpret_sim'] - this.sim['rage_mod']\n",
    "    this.sim['distance_f'] = this.sim['sexpret_sim'] - this.sim['sage_mod']\n",
    "    this.sim['joint'] = np.abs(this.sim['distance_m'] - this.sim['distance_f'])<=1.0    \n",
    "    experiments.append(this)\n",
    "for r in rep:\n",
    "    this = sp('discount')\n",
    "    this.chgoption('iload','T')\n",
    "    this.chgoption('idiscount','T')\n",
    "    this.chgoption('reprate',r)\n",
    "    this.estimate()\n",
    "    this.sim['distance_m'] = this.sim['rexpret_sim'] - this.sim['rage_mod']\n",
    "    this.sim['distance_f'] = this.sim['sexpret_sim'] - this.sim['sage_mod']\n",
    "    this.sim['joint'] = np.abs(this.sim['distance_m'] - this.sim['distance_f'])<=1.0    \n",
    "    experiments.append(this)\n",
    "    "
   ]
  },
  {
   "cell_type": "code",
   "execution_count": null,
   "metadata": {},
   "outputs": [],
   "source": [
    "data = [[e.sim['rexpret_sim'].mean(),e.sim['sexpret_sim'].mean(),e.sim['joint'].mean()] for e in experiments]\n",
    "names = ['Baseline','No Penalty','High Penalty','Low Generosity','High Generosity']\n",
    "table = pd.DataFrame(data=data,columns=['Ret Age Males','Ret Age Females','Fraction Retiring Jointly'],index=names)\n",
    "print(table)\n",
    "def f(x):\n",
    "    return '{:1.3f}'.format(x)\n",
    "with open('../tex/tables/policy.tex','w') as tf:\n",
    "    tf.write(table.to_latex(formatters=[f,f,f]))"
   ]
  },
  {
   "cell_type": "markdown",
   "metadata": {},
   "source": [
    "## Testing fixed correlation coefficients"
   ]
  },
  {
   "cell_type": "code",
   "execution_count": null,
   "metadata": {},
   "outputs": [],
   "source": [
    "listofrho = np.linspace(0,1.1,12)\n",
    "listofrho[listofrho==1.] = 0.995\n",
    "listofrho[listofrho==1.1] = 0.9999\n",
    "\n",
    "\n",
    "#listofrho = [0,0.1,0.25,0.5,0.75,0.9]"
   ]
  },
  {
   "cell_type": "code",
   "execution_count": null,
   "metadata": {
    "scrolled": false
   },
   "outputs": [],
   "source": [
    "%matplotlib inline\n",
    "from scipy.stats import gaussian_kde\n",
    "from numba import jit\n",
    "import numpy as np\n",
    "import copy as cp\n",
    "\n",
    "fixed = sp('fixcorr')\n",
    "fixed.chgoption('idiscount','T')\n",
    "fixed.chgoption('iload','T')\n",
    "fixed.chgoption('ifixcorr','T')\n",
    "fixed.chgoption('icomplement','F')\n",
    "\n",
    "lsloglik = []\n",
    "#lsparams = []\n",
    "\n",
    "dctresults = {}\n",
    "\n",
    "for rho in listofrho:    \n",
    "    print(rho)\n",
    "    fixed.chgoption('dfixrho',rho)\n",
    "    fixed.estimate()\n",
    "    dctresults[rho] = cp.copy(fixed)\n",
    "    lsloglik.append(fixed.loglike)\n",
    "    #lsparams.append(fixed.params)\n",
    "    \n",
    "    #Graph of the joint distance\n",
    "    fixed.sim['distance_m'] = fixed.sim['rexpret_sim'] - fixed.sim['rage_mod']\n",
    "    fixed.sim['distance_f'] = fixed.sim['sexpret_sim'] - fixed.sim['sage_mod']\n",
    "    fixed.sim['joint'] = np.abs(fixed.sim['distance_m'] - fixed.sim['distance_f'])<=1.0  \n",
    "    x = fixed.sim['distance_m'].tolist()\n",
    "    y = fixed.sim['distance_f'].tolist()\n",
    "\n",
    "    X, Y = np.mgrid[0:20:20j, 0:20:20j]\n",
    "    positions = np.vstack([X.ravel(), Y.ravel()])\n",
    "    values = np.vstack([x, y])\n",
    "    kernel = gaussian_kde(values)\n",
    "    Z = np.reshape(kernel(positions).T, X.shape)\n",
    "    plt.figure()\n",
    "    plt.contour(X,Y,Z)\n",
    "    xx = np.linspace(0,20,20)\n",
    "    plt.fill_between(xx, xx-1, xx+1, color='grey', alpha='0.1')\n",
    "    plt.xlim([0,20])\n",
    "    plt.ylim([0,20])\n",
    "    plt.xlabel('Expected Distance (yrs) to Retirement Husband')\n",
    "    plt.ylabel('Expected Distance (yrs) to Retirement Wife')\n",
    "    plt.savefig('../tex/figures/distances_nocomp%d.eps' %rho,dpi=600)\n",
    "    plt.show()\n",
    "    \n",
    "    \n",
    "    "
   ]
  },
  {
   "cell_type": "code",
   "execution_count": null,
   "metadata": {
    "scrolled": true
   },
   "outputs": [],
   "source": [
    "listofdens = []\n",
    "listofx    = []\n",
    "\n",
    "data = []\n",
    "plt.figure()\n",
    "\n",
    "for key in dctresults:\n",
    "    this = dctresults[key]\n",
    "    #print(this.sim.describe())\n",
    "    this.sim['distance_m'] = this.sim['rexpret_sim'] - this.sim['rage_mod']\n",
    "    this.sim['distance_f'] = this.sim['sexpret_sim'] - this.sim['sage_mod']\n",
    "    this.sim['joint'] = np.abs(this.sim['distance_m'] - this.sim['distance_f'])<=1.0\n",
    "    this.sim['joint_yrs'] = this.sim['distance_m'] - this.sim['distance_f']\n",
    "    x = this.sim['joint_yrs'].values\n",
    "    x.sort()\n",
    "    ff = gaussian_kde(x)\n",
    "    listofx.append(x)\n",
    "    listofdens.append(ff(x))\n",
    "    plt.plot(x,ff(x)) #,label=key)\n",
    "        #data.append([this.sim['rexpret_sim'].mean(),this.sim['sexpret_sim'].mean(),this.sim['joint'].mean()])\n",
    "        #table = pd.DataFrame(data=data,index=names,columns=['Ret Age Males','Ret Age Females','Fraction Joint'])  \n",
    "        #def f(x):\n",
    "        #    return '{:1.3f}'.format(x)\n",
    "        #with open('../tex/tables/joint.tex','w') as tf:\n",
    "        #    tf.write(table.to_latex(formatters=[f,f,f]))\n",
    "\n",
    "# plt.plot(listofx,listofdens, label=dctresults.keys())\n",
    "\n",
    "plt.legend(loc=2, labels=dctresults.keys())\n",
    "plt.xlabel('difference in distance to retirement')\n",
    "plt.ylabel('density')\n",
    "plt.xlim([-15,15])\n",
    "plt.savefig('../tex/figures/compare_distances_multiples_rho.eps')\n",
    "#plt.show()\n",
    "#table\n",
    "\n",
    "plt.show()"
   ]
  },
  {
   "cell_type": "code",
   "execution_count": null,
   "metadata": {},
   "outputs": [],
   "source": [
    "listofjoin = []\n",
    "listofval = []\n",
    "for key in dctresults:\n",
    "    this = dctresults[key]\n",
    "    listofjoin.append(this.sim['joint'].mean())\n",
    "    listofval.append(key)\n",
    "    \n",
    "plt.plot(listofval, listofjoin)"
   ]
  },
  {
   "cell_type": "markdown",
   "metadata": {},
   "source": [
    "### No complementarity, moving correlation."
   ]
  },
  {
   "cell_type": "code",
   "execution_count": null,
   "metadata": {},
   "outputs": [],
   "source": [
    "comp = sp('discount')\n",
    "comp.chgoption('iload','T')\n",
    "comp.chgoption('idiscount','T')\n",
    "#comp.chgoption('icomplement','F')\n",
    "comp.chgoption('iblockcomp','T')\n",
    "comp.estimate()\n",
    "comp.sim.describe()\n"
   ]
  },
  {
   "cell_type": "code",
   "execution_count": null,
   "metadata": {},
   "outputs": [],
   "source": [
    "### Creating a fake scenario and escaping estimation ####\n",
    "drho = 0.5\n",
    "\n",
    "lsloglik = []\n",
    "#lsparams = []\n",
    "\n",
    "dct_new_results = {}\n",
    "\n",
    "nocomp_varrho = cp.copy(comp)\n",
    "nocomp_varrho.scenario = \"nocomp_varrho\"\n",
    "nocomp_varrho.chgoption('inoestim','T')\n",
    "\n",
    "for drho in listofrho:\n",
    "\n",
    "    ## Computing the var cov matrix\n",
    "    M11 = pd.to_numeric(nocomp_varrho.params['par'].loc['L_nm_nm'])\n",
    "    M12 = pd.to_numeric(nocomp_varrho.params['par'].loc['L_nf_nm'])\n",
    "    M22 = pd.to_numeric(nocomp_varrho.params['par'].loc['L_nf_nf'])\n",
    "\n",
    "    M = np.array([[M11, 0],[M12,  M22]])\n",
    "    varcov = np.matmul(M,M.T)\n",
    "\n",
    "    # Maintaining var cst, changing only the correlation. \n",
    "    newvarcov = varcov\n",
    "    newvarcov[0,1] = drho * (np.sqrt(varcov[0,0])*np.sqrt(varcov[1,1]))\n",
    "    newvarcov[1,0] = newvarcov[0,1]\n",
    "\n",
    "    # Writing in the table.\n",
    "    newchol = np.linalg.cholesky(newvarcov)\n",
    "    \n",
    "    print(newchol)\n",
    "\n",
    "    nocomp_varrho.params['par'].loc['L_nf_nm'] = newchol[1,0] \n",
    "    nocomp_varrho.params['par'].loc['L_nf_nf'] = newchol[1,1] \n",
    "\n",
    "    ## Dumping the table first\n",
    "    nocomp_varrho.params.to_csv('../params/temp.csv', header = False, sep = '\\t')\n",
    "    \n",
    "    # Putting the content back in memory\n",
    "    f = open('../params/'+ 'temp' +'.csv')\n",
    "    buff = f.read()\n",
    "    f.close()\n",
    "    buff = buff.split('\\n')\n",
    "\n",
    "    # Adding the two lines\n",
    "    f = open('../params/parms_%s.csv'%nocomp_varrho.scenario, \"w+\")\n",
    "    f.write(str(comp.loglike)+\"\\n\")\n",
    "    f.write('48')\n",
    "\n",
    "    ##Rewriting the parameters\n",
    "    for line in buff:\n",
    "        f.write(\"\\n\" + line)\n",
    "\n",
    "    f.close()\n",
    "    nocomp_varrho.estimate()\n",
    "    nocomp_varrho.sim['distance_m'] = nocomp_varrho.sim['rexpret_sim'] - nocomp_varrho.sim['rage_mod']\n",
    "    nocomp_varrho.sim['distance_f'] = nocomp_varrho.sim['sexpret_sim'] - nocomp_varrho.sim['sage_mod']\n",
    "    nocomp_varrho.sim['joint'] = np.abs(nocomp_varrho.sim['distance_m'] - nocomp_varrho.sim['distance_f'])<=1.0\n",
    "    nocomp_varrho.sim['joint_yrs'] = nocomp_varrho.sim['distance_m'] - nocomp_varrho.sim['distance_f']\n",
    "    dct_new_results[drho] = cp.copy(nocomp_varrho)\n",
    "    "
   ]
  },
  {
   "cell_type": "code",
   "execution_count": null,
   "metadata": {},
   "outputs": [],
   "source": [
    "listofjoin = []\n",
    "listofval = []\n",
    "for key in dct_new_results:\n",
    "    this = dct_new_results[key]\n",
    "    listofjoin.append(this.sim['joint'].mean())\n",
    "    listofval.append(key)\n",
    "    \n",
    "plt.plot(listofval, listofjoin)"
   ]
  },
  {
   "cell_type": "code",
   "execution_count": null,
   "metadata": {},
   "outputs": [],
   "source": [
    "comp.params"
   ]
  },
  {
   "cell_type": "code",
   "execution_count": null,
   "metadata": {},
   "outputs": [],
   "source": [
    "dct_new_results[0.995].sim['joint_num'] = dct_new_results[0.995].sim['joint']*1.0\n",
    "dct_new_results[0.995].sim[['joint_yrs', 'joint_num']].groupby('joint_yrs').sum()"
   ]
  },
  {
   "cell_type": "code",
   "execution_count": null,
   "metadata": {},
   "outputs": [],
   "source": [
    "try:\n",
    "    del dfbyage\n",
    "except:\n",
    "    pass\n",
    "\n",
    "for key in dct_new_results:\n",
    "    dct_new_results[key].sim['diffage'] = np.abs(dct_new_results[key].sim['rage_mod'] \n",
    "                                               - dct_new_results[key].sim['sage_mod'])\n",
    "    thisdict = dct_new_results[key].sim[['diffage', 'joint']].groupby('diffage').mean()\n",
    "    thisdict['rho'] = key\n",
    "    \n",
    "    try:\n",
    "        dfbyage = dfbyage.append(thisdict)\n",
    "    except:\n",
    "        dfbyage = thisdict.copy()"
   ]
  },
  {
   "cell_type": "code",
   "execution_count": null,
   "metadata": {},
   "outputs": [],
   "source": [
    "dfbyage.pivot(columns='rho').plot()\n",
    "plt.legend(bbox_to_anchor=(1.05, 1), loc=2, borderaxespad=0.)\n",
    "plt.show()"
   ]
  },
  {
   "cell_type": "code",
   "execution_count": null,
   "metadata": {},
   "outputs": [],
   "source": [
    "dfbyage.pivot(columns='rho')"
   ]
  },
  {
   "cell_type": "code",
   "execution_count": null,
   "metadata": {},
   "outputs": [],
   "source": []
  }
 ],
 "metadata": {
  "kernelspec": {
   "display_name": "Python 3",
   "language": "python",
   "name": "python3"
  },
  "language_info": {
   "codemirror_mode": {
    "name": "ipython",
    "version": 3
   },
   "file_extension": ".py",
   "mimetype": "text/x-python",
   "name": "python",
   "nbconvert_exporter": "python",
   "pygments_lexer": "ipython3",
   "version": "3.6.8"
  }
 },
 "nbformat": 4,
 "nbformat_minor": 2
}
