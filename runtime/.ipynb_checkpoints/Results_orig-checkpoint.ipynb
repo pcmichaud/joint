{
 "cells": [
  {
   "cell_type": "markdown",
   "metadata": {},
   "source": [
    "# Obtaining Estimation and Simulation Results"
   ]
  },
  {
   "cell_type": "code",
   "execution_count": 1,
   "metadata": {},
   "outputs": [],
   "source": [
    "import os\n",
    "from matplotlib import pyplot as plt\n",
    "from tools import models"
   ]
  },
  {
   "cell_type": "markdown",
   "metadata": {},
   "source": [
    "We now create a base instance of the model (constant discount rates). This is useful for starting other specifications"
   ]
  },
  {
   "cell_type": "code",
   "execution_count": 2,
   "metadata": {},
   "outputs": [
    {
     "name": "stdout",
     "output_type": "stream",
     "text": [
      "Default options: \n",
      "isurvival  =  T\n",
      "iload  =  F\n",
      "iestimate  =  T\n",
      "data  =  hrs_final_ref.csv\n",
      "info  =  info_ref.dat\n",
      "includeratings  =  F\n",
      "icomplement  =  T\n",
      "ihetero  =  T\n",
      "ijointhetero  =  T\n",
      "ibargaininghetero  =  F\n",
      "icorr  =  T\n",
      "iunitary  =  F\n",
      "idiscount  =  F\n",
      "ddiscount  =  0.95\n",
      "idirect  =  F\n",
      "arf  =  0.06\n",
      "drc  =  0.08\n",
      "reprate  =  0.6\n",
      "ishufheter  =  F\n",
      "ishufwages  =  F\n",
      "iblockcomp  =  F\n",
      "ifixcorr  =  F\n",
      "dfixrho  =  0.5\n",
      "inoestim  =  F\n",
      "changed item  iload  with value F  to  T  ...\n"
     ]
    }
   ],
   "source": [
    "sp = models.sp\n",
    "base = sp('ref')\n",
    "base.chgoption('iload','T')"
   ]
  },
  {
   "cell_type": "markdown",
   "metadata": {},
   "source": [
    "We estimate parameters and simulate data post estimation"
   ]
  },
  {
   "cell_type": "code",
   "execution_count": null,
   "metadata": {},
   "outputs": [],
   "source": [
    "base.estimate()\n",
    "base.loglike"
   ]
  },
  {
   "cell_type": "code",
   "execution_count": null,
   "metadata": {},
   "outputs": [],
   "source": [
    "base.params"
   ]
  },
  {
   "cell_type": "markdown",
   "metadata": {},
   "source": [
    "Here are some stats on the simulations:"
   ]
  },
  {
   "cell_type": "code",
   "execution_count": null,
   "metadata": {},
   "outputs": [],
   "source": [
    "base.sim.describe()"
   ]
  },
  {
   "cell_type": "markdown",
   "metadata": {},
   "source": [
    "We will now create a model that estimates discount rates"
   ]
  },
  {
   "cell_type": "code",
   "execution_count": null,
   "metadata": {},
   "outputs": [],
   "source": [
    "disc = sp('discount')\n",
    "\n",
    "    "
   ]
  },
  {
   "cell_type": "markdown",
   "metadata": {},
   "source": [
    "We need to flag that we want to estimate discount rates"
   ]
  },
  {
   "cell_type": "code",
   "execution_count": null,
   "metadata": {},
   "outputs": [],
   "source": [
    "disc.chgoption('idiscount','T')\n",
    "disc.chgoption('iload','T')"
   ]
  },
  {
   "cell_type": "markdown",
   "metadata": {},
   "source": [
    "We now estimate parameters"
   ]
  },
  {
   "cell_type": "code",
   "execution_count": null,
   "metadata": {},
   "outputs": [],
   "source": [
    "disc.estimate()\n",
    "disc.loglike"
   ]
  },
  {
   "cell_type": "code",
   "execution_count": null,
   "metadata": {},
   "outputs": [],
   "source": [
    "disc.params"
   ]
  },
  {
   "cell_type": "markdown",
   "metadata": {},
   "source": [
    "Some stats again on types"
   ]
  },
  {
   "cell_type": "code",
   "execution_count": null,
   "metadata": {},
   "outputs": [],
   "source": [
    "disc.sim.describe()"
   ]
  },
  {
   "cell_type": "markdown",
   "metadata": {},
   "source": [
    "## Robustness of Specification"
   ]
  },
  {
   "cell_type": "markdown",
   "metadata": {},
   "source": [
    "We will collect a few loglikelihoods to do LR tests (Table in main text). We will also present some results in the appendix for these alternative models.  "
   ]
  },
  {
   "cell_type": "markdown",
   "metadata": {},
   "source": [
    "### Model with uncorrelated types"
   ]
  },
  {
   "cell_type": "code",
   "execution_count": null,
   "metadata": {},
   "outputs": [],
   "source": [
    "uncor = sp('nocorr')"
   ]
  },
  {
   "cell_type": "code",
   "execution_count": null,
   "metadata": {},
   "outputs": [],
   "source": [
    "uncor.chgoption('icorr','F')\n",
    "uncor.chgoption('idiscount','T')\n",
    "uncor.chgoption('iload','T')"
   ]
  },
  {
   "cell_type": "code",
   "execution_count": null,
   "metadata": {},
   "outputs": [],
   "source": [
    "uncor.estimate()\n",
    "uncor.loglike"
   ]
  },
  {
   "cell_type": "code",
   "execution_count": null,
   "metadata": {},
   "outputs": [],
   "source": [
    "uncor.params"
   ]
  },
  {
   "cell_type": "code",
   "execution_count": null,
   "metadata": {},
   "outputs": [],
   "source": [
    "uncor.sim.describe()"
   ]
  },
  {
   "cell_type": "markdown",
   "metadata": {},
   "source": [
    "### Model without Survival Risk"
   ]
  },
  {
   "cell_type": "code",
   "execution_count": null,
   "metadata": {},
   "outputs": [],
   "source": [
    "nosurv = sp('nosurv')"
   ]
  },
  {
   "cell_type": "code",
   "execution_count": null,
   "metadata": {},
   "outputs": [],
   "source": [
    "nosurv.chgoption('isurvival','F')\n",
    "nosurv.chgoption('idiscount','T')\n",
    "nosurv.chgoption('iload','T')"
   ]
  },
  {
   "cell_type": "code",
   "execution_count": null,
   "metadata": {},
   "outputs": [],
   "source": [
    "nosurv.estimate()\n",
    "nosurv.loglike"
   ]
  },
  {
   "cell_type": "code",
   "execution_count": null,
   "metadata": {},
   "outputs": [],
   "source": [
    "nosurv.params"
   ]
  },
  {
   "cell_type": "code",
   "execution_count": null,
   "metadata": {},
   "outputs": [],
   "source": [
    "nosurv.sim.describe()"
   ]
  },
  {
   "cell_type": "markdown",
   "metadata": {},
   "source": [
    "### Model without Complementarity"
   ]
  },
  {
   "cell_type": "code",
   "execution_count": null,
   "metadata": {},
   "outputs": [],
   "source": [
    "nocomp = sp('nocomp')"
   ]
  },
  {
   "cell_type": "code",
   "execution_count": null,
   "metadata": {},
   "outputs": [],
   "source": [
    "nocomp.chgoption('idiscount','T')\n",
    "nocomp.chgoption('icomplement','F')\n",
    "nocomp.chgoption('iload','T')"
   ]
  },
  {
   "cell_type": "code",
   "execution_count": null,
   "metadata": {},
   "outputs": [],
   "source": [
    "nocomp.estimate()\n"
   ]
  },
  {
   "cell_type": "code",
   "execution_count": null,
   "metadata": {},
   "outputs": [],
   "source": [
    "nocomp.loglike"
   ]
  },
  {
   "cell_type": "code",
   "execution_count": null,
   "metadata": {},
   "outputs": [],
   "source": [
    "nocomp.params"
   ]
  },
  {
   "cell_type": "code",
   "execution_count": null,
   "metadata": {},
   "outputs": [],
   "source": [
    "nocomp.sim.describe()"
   ]
  },
  {
   "cell_type": "markdown",
   "metadata": {},
   "source": [
    "### Unitary Model"
   ]
  },
  {
   "cell_type": "code",
   "execution_count": null,
   "metadata": {},
   "outputs": [],
   "source": [
    "unitary = sp('unitary')\n",
    "unitary.chgoption('iunitary','T')\n",
    "unitary.chgoption('idiscount','T')\n",
    "unitary.chgoption('iload','T')"
   ]
  },
  {
   "cell_type": "code",
   "execution_count": null,
   "metadata": {},
   "outputs": [],
   "source": [
    "unitary.estimate()\n",
    "unitary.loglike"
   ]
  },
  {
   "cell_type": "code",
   "execution_count": null,
   "metadata": {},
   "outputs": [],
   "source": [
    "unitary.params"
   ]
  },
  {
   "cell_type": "code",
   "execution_count": null,
   "metadata": {},
   "outputs": [],
   "source": [
    "unitary.sim.describe()"
   ]
  },
  {
   "cell_type": "markdown",
   "metadata": {},
   "source": [
    "### Table with LR Tests"
   ]
  },
  {
   "cell_type": "code",
   "execution_count": null,
   "metadata": {},
   "outputs": [],
   "source": [
    "import pandas as pd\n",
    "data = [disc.loglike,base.loglike,uncor.loglike,nocomp.loglike,unitary.loglike]\n",
    "lr = [0]\n",
    "for i in range(1,len(data)):\n",
    "    lr.append(-2.0*(data[i]-data[0]))\n",
    "names = ['Baseline','Fixed Discount Rates (2)','No Correlation UH (1)','No Complementarity (2)','Unitary (1)']\n",
    "table = pd.DataFrame(data=list(zip(data,lr)),index=names,columns=['Loglikehood Value','LR Statistic'])\n",
    "def f(x):\n",
    "    return '{:1.3f}'.format(x)\n",
    "with open('../tex/tables/lrtests.tex','w') as tf:\n",
    "    tf.write(table.to_latex(formatters=[f,f]))\n",
    "table    "
   ]
  },
  {
   "cell_type": "markdown",
   "metadata": {},
   "source": [
    "Critical values at 5% for these tests:"
   ]
  },
  {
   "cell_type": "code",
   "execution_count": null,
   "metadata": {},
   "outputs": [],
   "source": [
    "from scipy.stats import chi2\n",
    "[chi2(1).ppf(0.95),chi2(2).ppf(0.95)]"
   ]
  },
  {
   "cell_type": "markdown",
   "metadata": {},
   "source": [
    "## Correlation with Expected Retirement in HRS"
   ]
  },
  {
   "cell_type": "code",
   "execution_count": null,
   "metadata": {},
   "outputs": [],
   "source": [
    "disc.sim['rexpret'] = disc.sim['rage_mod'] + (disc.sim['rexpret']-2011)\n",
    "disc.sim['sexpret'] = disc.sim['sage_mod'] + (disc.sim['sexpret']-2011)\n"
   ]
  },
  {
   "cell_type": "code",
   "execution_count": null,
   "metadata": {},
   "outputs": [],
   "source": [
    "\n",
    "disc.sim[['rexpret','sexpret']].describe()\n",
    "  "
   ]
  },
  {
   "cell_type": "markdown",
   "metadata": {},
   "source": [
    "Correlations with simulated expected retirement age"
   ]
  },
  {
   "cell_type": "code",
   "execution_count": null,
   "metadata": {},
   "outputs": [],
   "source": [
    "\n",
    "print('Males   : ',disc.sim[['rexpret','rexpret_sim']].corr())\n",
    "print('Females : ',disc.sim[['sexpret','sexpret_sim']].corr())\n",
    "    "
   ]
  },
  {
   "cell_type": "markdown",
   "metadata": {},
   "source": [
    "We will do a figure to check correlation"
   ]
  },
  {
   "cell_type": "code",
   "execution_count": null,
   "metadata": {},
   "outputs": [],
   "source": [
    "from scipy.stats import linregress\n",
    "data = disc.sim[['rexpret_sim','rexpret']].dropna()\n",
    "x = data['rexpret_sim']\n",
    "y = data['rexpret']\n",
    "slope, intercept, r_value, p_value, std_err = linregress(x,y)\n",
    "line = slope*x+intercept\n",
    "plt.figure()\n",
    "plt.scatter(x,y,label='')\n",
    "plt.plot(x, line, 'r', label='y={:.2f}x+{:.2f}: $R^2$={:.2f}'.format(slope,intercept,r_value))\n",
    "plt.xlabel('expected retirement age (Model)')\n",
    "plt.ylabel('expected retirement age (HRS)')\n",
    "plt.legend(loc=4)\n",
    "plt.savefig('../tex/figures/match_males.eps')\n",
    "plt.show()"
   ]
  },
  {
   "cell_type": "code",
   "execution_count": null,
   "metadata": {},
   "outputs": [],
   "source": [
    "from scipy.stats import linregress\n",
    "data = disc.sim[['sexpret_sim','sexpret']].dropna()\n",
    "x = data['sexpret_sim']\n",
    "y = data['sexpret']\n",
    "slope, intercept, r_value, p_value, std_err = linregress(x,y)\n",
    "line = slope*x+intercept\n",
    "plt.figure()\n",
    "plt.scatter(x,y,label='')\n",
    "plt.plot(x, line, 'r', label='y={:.2f}x+{:.2f}: $R^2$={:.2f}'.format(slope,intercept,r_value))\n",
    "plt.xlabel('expected retirement age (Model)')\n",
    "plt.ylabel('expected retirement age (HRS)')\n",
    "plt.legend(loc=4)\n",
    "plt.savefig('../tex/figures/match_females.eps')\n",
    "plt.show()"
   ]
  },
  {
   "cell_type": "markdown",
   "metadata": {},
   "source": [
    "## Distribution of Retirement Ages"
   ]
  },
  {
   "cell_type": "code",
   "execution_count": null,
   "metadata": {},
   "outputs": [],
   "source": [
    "%matplotlib inline\n",
    "from scipy.stats import gaussian_kde\n",
    "from numba import jit\n",
    "import numpy as np\n",
    "x = disc.sim['rexpret_sim'].tolist()\n",
    "y = disc.sim['sexpret_sim'].tolist()\n",
    "print(disc.sim[['rexpret_sim','sexpret_sim']].describe())\n",
    "print('correlation : ', disc.sim[['rexpret_sim','sexpret_sim']].corr())\n",
    "X, Y = np.mgrid[60:69:10j, 60:69:10j]\n",
    "positions = np.vstack([X.ravel(), Y.ravel()])\n",
    "values = np.vstack([x, y])\n",
    "kernel = gaussian_kde(values)\n",
    "Z = np.reshape(kernel(positions).T, X.shape)\n",
    "plt.figure()\n",
    "plt.contour(X,Y,Z)\n",
    "plt.xlabel('Expected Retirement Age Husband')\n",
    "plt.ylabel('Expected Retirement Age Wife')\n",
    "plt.savefig('../tex/figures/retages.eps')"
   ]
  },
  {
   "cell_type": "code",
   "execution_count": null,
   "metadata": {},
   "outputs": [],
   "source": [
    "disc.sim['distance_m'] = disc.sim['rexpret_sim'] - disc.sim['rage_mod']\n",
    "disc.sim['distance_f'] = disc.sim['sexpret_sim'] - disc.sim['sage_mod']\n",
    "print(disc.sim[['distance_m','distance_f']].describe())\n",
    "print('correlation: ', disc.sim[['distance_m','distance_f']].corr())\n",
    "\n",
    "%matplotlib inline\n",
    "from scipy.stats import gaussian_kde\n",
    "from numba import jit\n",
    "import numpy as np\n",
    "x = disc.sim['distance_m'].tolist()\n",
    "y = disc.sim['distance_f'].tolist()\n",
    "\n",
    "X, Y = np.mgrid[0:20:20j, 0:20:20j]\n",
    "positions = np.vstack([X.ravel(), Y.ravel()])\n",
    "values = np.vstack([x, y])\n",
    "kernel = gaussian_kde(values)\n",
    "Z = np.reshape(kernel(positions).T, X.shape)\n",
    "plt.figure()\n",
    "plt.contour(X,Y,Z)\n",
    "xx = np.linspace(0,20,20)\n",
    "plt.fill_between(xx, xx-1, xx+1, color='grey', alpha='0.1')\n",
    "plt.xlim([0,20])\n",
    "plt.ylim([0,20])\n",
    "plt.xlabel('Expected Distance (yrs) to Retirement Husband')\n",
    "plt.ylabel('Expected Distance (yrs) to Retirement Wife')\n",
    "plt.savefig('../tex/figures/distances.eps',dpi=600)"
   ]
  },
  {
   "cell_type": "markdown",
   "metadata": {},
   "source": [
    "## Joint Retirement"
   ]
  },
  {
   "cell_type": "markdown",
   "metadata": {},
   "source": [
    "We will now re-rerun the discount model (baseline) with three scenarios: reshuffling heterogeneity, reshuffling wages and shutting down complementarity. "
   ]
  },
  {
   "cell_type": "code",
   "execution_count": null,
   "metadata": {},
   "outputs": [],
   "source": [
    "wages = sp('discount')\n",
    "wages.chgoption('iload','T')\n",
    "wages.chgoption('idiscount','T')\n",
    "wages.chgoption('ishufwages','T')\n",
    "wages.estimate()"
   ]
  },
  {
   "cell_type": "code",
   "execution_count": null,
   "metadata": {},
   "outputs": [],
   "source": [
    "heter = sp('discount')\n",
    "heter.chgoption('iload','T')\n",
    "heter.chgoption('idiscount','T')\n",
    "heter.chgoption('ishufheter','T')\n",
    "heter.estimate()"
   ]
  },
  {
   "cell_type": "code",
   "execution_count": null,
   "metadata": {},
   "outputs": [],
   "source": [
    "comp = sp('discount')\n",
    "comp.chgoption('iload','T')\n",
    "comp.chgoption('idiscount','T')\n",
    "comp.chgoption('iblockcomp','T')\n",
    "comp.estimate()"
   ]
  },
  {
   "cell_type": "code",
   "execution_count": null,
   "metadata": {},
   "outputs": [],
   "source": [
    "specs = [disc,wages,heter,comp]\n",
    "names =  ['Baseline','Shuffling Wages','Shuffling UH','No Complementarity']\n",
    "data = []\n",
    "plt.figure()\n",
    "for i,s in enumerate(specs):\n",
    "    s.sim['distance_m'] = s.sim['rexpret_sim'] - s.sim['rage_mod']\n",
    "    s.sim['distance_f'] = s.sim['sexpret_sim'] - s.sim['sage_mod']\n",
    "    s.sim['joint'] = np.abs(s.sim['distance_m'] - s.sim['distance_f'])<=1.0\n",
    "    s.sim['joint_yrs'] = s.sim['distance_m'] - s.sim['distance_f']\n",
    "    x = s.sim['joint_yrs'].values\n",
    "    x.sort()\n",
    "    ff = gaussian_kde(x)\n",
    "    plt.plot(x,ff(x),label=names[i])\n",
    "    data.append([s.sim['rexpret_sim'].mean(),s.sim['sexpret_sim'].mean(),s.sim['joint'].mean()])\n",
    "table = pd.DataFrame(data=data,index=names,columns=['Ret Age Males','Ret Age Females','Fraction Joint'])  \n",
    "def f(x):\n",
    "    return '{:1.3f}'.format(x)\n",
    "with open('../tex/tables/joint.tex','w') as tf:\n",
    "    tf.write(table.to_latex(formatters=[f,f,f]))\n",
    "plt.legend(loc=2)\n",
    "plt.xlabel('difference in distance to retirement')\n",
    "plt.ylabel('density')\n",
    "plt.xlim([-15,15])\n",
    "plt.savefig('../tex/figures/compare_distances.eps')\n",
    "plt.show()\n",
    "table"
   ]
  },
  {
   "cell_type": "code",
   "execution_count": null,
   "metadata": {},
   "outputs": [],
   "source": [
    "%matplotlib inline\n",
    "from scipy.stats import gaussian_kde\n",
    "from numba import jit\n",
    "import numpy as np\n",
    "x = comp.sim['distance_m'].tolist()\n",
    "y = comp.sim['distance_f'].tolist()\n",
    "\n",
    "X, Y = np.mgrid[0:20:20j, 0:20:20j]\n",
    "positions = np.vstack([X.ravel(), Y.ravel()])\n",
    "values = np.vstack([x, y])\n",
    "kernel = gaussian_kde(values)\n",
    "Z = np.reshape(kernel(positions).T, X.shape)\n",
    "plt.figure()\n",
    "plt.contour(X,Y,Z)\n",
    "xx = np.linspace(0,20,20)\n",
    "plt.fill_between(xx, xx-1, xx+1, color='grey', alpha='0.1')\n",
    "plt.xlim([0,20])\n",
    "plt.ylim([0,20])\n",
    "plt.xlabel('Expected Distance (yrs) to Retirement Husband')\n",
    "plt.ylabel('Expected Distance (yrs) to Retirement Wife')\n",
    "plt.savefig('../tex/figures/distances_nocomp.eps',dpi=600)"
   ]
  },
  {
   "cell_type": "code",
   "execution_count": null,
   "metadata": {},
   "outputs": [],
   "source": [
    "disc.sim['agediff'] = disc.sim['rage_mod']- disc.sim['sage_mod']\n",
    "print(comp.sim[['distance_m','distance_f']].describe())\n",
    "print(disc.sim[['distance_m','distance_f']].describe())\n",
    "\n"
   ]
  },
  {
   "cell_type": "markdown",
   "metadata": {},
   "source": [
    "# Policy Simulation"
   ]
  },
  {
   "cell_type": "markdown",
   "metadata": {},
   "source": [
    "Finally, we have to check what happens when we do policy simulations. We will do policy simulations over two parameters, the ARF (actuarial reduction factor) and the generosity of the pension (replacement rate). "
   ]
  },
  {
   "cell_type": "code",
   "execution_count": null,
   "metadata": {},
   "outputs": [],
   "source": [
    "arf = [0,0.09]\n",
    "drc = [0,0.11]\n",
    "rep = [0.4,0.8]\n",
    "factors = zip(arf,drc)\n",
    "experiments = [disc]\n",
    "for a,d in factors:\n",
    "    this = sp('discount')\n",
    "    this.chgoption('iload','T')\n",
    "    this.chgoption('idiscount','T')\n",
    "    this.chgoption('arf',a)\n",
    "    this.chgoption('drc',d)\n",
    "    this.estimate()\n",
    "    this.sim['distance_m'] = this.sim['rexpret_sim'] - this.sim['rage_mod']\n",
    "    this.sim['distance_f'] = this.sim['sexpret_sim'] - this.sim['sage_mod']\n",
    "    this.sim['joint'] = np.abs(this.sim['distance_m'] - this.sim['distance_f'])<=1.0    \n",
    "    experiments.append(this)\n",
    "for r in rep:\n",
    "    this = sp('discount')\n",
    "    this.chgoption('iload','T')\n",
    "    this.chgoption('idiscount','T')\n",
    "    this.chgoption('reprate',r)\n",
    "    this.estimate()\n",
    "    this.sim['distance_m'] = this.sim['rexpret_sim'] - this.sim['rage_mod']\n",
    "    this.sim['distance_f'] = this.sim['sexpret_sim'] - this.sim['sage_mod']\n",
    "    this.sim['joint'] = np.abs(this.sim['distance_m'] - this.sim['distance_f'])<=1.0    \n",
    "    experiments.append(this)\n",
    "    "
   ]
  },
  {
   "cell_type": "code",
   "execution_count": null,
   "metadata": {},
   "outputs": [],
   "source": [
    "data = [[e.sim['rexpret_sim'].mean(),e.sim['sexpret_sim'].mean(),e.sim['joint'].mean()] for e in experiments]\n",
    "names = ['Baseline','No Penalty','High Penalty','Low Generosity','High Generosity']\n",
    "table = pd.DataFrame(data=data,columns=['Ret Age Males','Ret Age Females','Fraction Retiring Jointly'],index=names)\n",
    "print(table)\n",
    "def f(x):\n",
    "    return '{:1.3f}'.format(x)\n",
    "with open('../tex/tables/policy.tex','w') as tf:\n",
    "    tf.write(table.to_latex(formatters=[f,f,f]))"
   ]
  },
  {
   "cell_type": "code",
   "execution_count": null,
   "metadata": {},
   "outputs": [],
   "source": []
  },
  {
   "cell_type": "code",
   "execution_count": null,
   "metadata": {},
   "outputs": [],
   "source": []
  }
 ],
 "metadata": {
  "kernelspec": {
   "display_name": "Python 3",
   "language": "python",
   "name": "python3"
  },
  "language_info": {
   "codemirror_mode": {
    "name": "ipython",
    "version": 3
   },
   "file_extension": ".py",
   "mimetype": "text/x-python",
   "name": "python",
   "nbconvert_exporter": "python",
   "pygments_lexer": "ipython3",
   "version": "3.6.8"
  }
 },
 "nbformat": 4,
 "nbformat_minor": 2
}
