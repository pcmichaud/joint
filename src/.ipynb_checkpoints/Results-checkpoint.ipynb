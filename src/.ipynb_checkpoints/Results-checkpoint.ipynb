{
 "cells": [
  {
   "cell_type": "markdown",
   "metadata": {},
   "source": [
    "# Obtaining Estimation and Simulation Results"
   ]
  },
  {
   "cell_type": "code",
   "execution_count": 33,
   "metadata": {},
   "outputs": [
    {
     "ename": "SyntaxError",
     "evalue": "invalid syntax (<ipython-input-33-8eadb74e03d0>, line 3)",
     "output_type": "error",
     "traceback": [
      "\u001b[0;36m  File \u001b[0;32m\"<ipython-input-33-8eadb74e03d0>\"\u001b[0;36m, line \u001b[0;32m3\u001b[0m\n\u001b[0;31m    import ../src/models\u001b[0m\n\u001b[0m           ^\u001b[0m\n\u001b[0;31mSyntaxError\u001b[0m\u001b[0;31m:\u001b[0m invalid syntax\n"
     ]
    }
   ],
   "source": [
    "import os\n",
    "from matplotlib import pyplot as plt\n",
    "import models\n",
    "os.chdir('../runtime')"
   ]
  },
  {
   "cell_type": "markdown",
   "metadata": {},
   "source": [
    "We first write a class to manipulate estimates, write output, etc. "
   ]
  },
  {
   "cell_type": "code",
   "execution_count": 29,
   "metadata": {},
   "outputs": [],
   "source": []
  },
  {
   "cell_type": "markdown",
   "metadata": {},
   "source": [
    "We now create a base instance of the model (constant discount rates). This is useful for starting other specifications"
   ]
  },
  {
   "cell_type": "code",
   "execution_count": 30,
   "metadata": {},
   "outputs": [
    {
     "name": "stdout",
     "output_type": "stream",
     "text": [
      "Default options: \n",
      "isurvival  =  T\n",
      "iload  =  F\n",
      "iestimate  =  T\n",
      "data  =  hrs_final_ref.csv\n",
      "info  =  info_ref.dat\n",
      "includeratings  =  F\n",
      "icomplement  =  T\n",
      "ihetero  =  T\n",
      "icorr  =  T\n",
      "iunitary  =  F\n",
      "idiscount  =  F\n",
      "idirect  =  F\n",
      "arf  =  0.06\n",
      "drc  =  0.08\n",
      "reprate  =  0.6\n",
      "ishufheter  =  F\n",
      "ishufwages  =  F\n",
      "iblockcomp  =  F\n"
     ]
    }
   ],
   "source": [
    "base = sp('ref')"
   ]
  },
  {
   "cell_type": "code",
   "execution_count": 28,
   "metadata": {},
   "outputs": [
    {
     "name": "stdout",
     "output_type": "stream",
     "text": [
      "changed item  drc  with value 0.08  to  0.2  ...\n",
      "changed item  iload  with value F  to  T  ...\n",
      "value already set to  0.2\n"
     ]
    }
   ],
   "source": [
    "base.chgoption('drc',0.2)\n",
    "base.chgoption('iload','T')\n",
    "base.chgoption('drc',0.2)"
   ]
  },
  {
   "cell_type": "code",
   "execution_count": null,
   "metadata": {},
   "outputs": [],
   "source": [
    "base.estimate()\n",
    "base.loglike"
   ]
  },
  {
   "cell_type": "markdown",
   "metadata": {},
   "source": [
    "We now run different specifications"
   ]
  },
  {
   "cell_type": "code",
   "execution_count": null,
   "metadata": {},
   "outputs": [],
   "source": [
    "scenarios = ['discount','unitary','nocomp','nocorr','nosurv']\n",
    "specs = []\n",
    "for scn in scenarios:\n",
    "    this = sp(scn)\n",
    "    this.estimate()\n",
    "    specs.append(this)\n",
    "    "
   ]
  },
  {
   "cell_type": "markdown",
   "metadata": {},
   "source": [
    "We are now ready to explore some of the simulations in the base case. We will use the discount model for this. "
   ]
  },
  {
   "cell_type": "code",
   "execution_count": null,
   "metadata": {},
   "outputs": [],
   "source": []
  },
  {
   "cell_type": "code",
   "execution_count": null,
   "metadata": {},
   "outputs": [],
   "source": [
    "vars = ['hhidpn','insim','jprob','rexpret_sim','sexpret_sim','leisure_m', 'leisure_f'] \n",
    "sim = pd.read_csv('../data/outcomes_ref.dat',names=vars,sep='\\s+')\n",
    "sim = sim[sim.insim==1]\n",
    "sim.describe()"
   ]
  },
  {
   "cell_type": "code",
   "execution_count": null,
   "metadata": {},
   "outputs": [],
   "source": [
    "len(sim)"
   ]
  },
  {
   "cell_type": "code",
   "execution_count": null,
   "metadata": {},
   "outputs": [],
   "source": [
    "specs[2].params"
   ]
  },
  {
   "cell_type": "code",
   "execution_count": null,
   "metadata": {},
   "outputs": [],
   "source": []
  }
 ],
 "metadata": {
  "kernelspec": {
   "display_name": "Python 3",
   "language": "python",
   "name": "python3"
  },
  "language_info": {
   "codemirror_mode": {
    "name": "ipython",
    "version": 3
   },
   "file_extension": ".py",
   "mimetype": "text/x-python",
   "name": "python",
   "nbconvert_exporter": "python",
   "pygments_lexer": "ipython3",
   "version": "3.6.4"
  }
 },
 "nbformat": 4,
 "nbformat_minor": 2
}
